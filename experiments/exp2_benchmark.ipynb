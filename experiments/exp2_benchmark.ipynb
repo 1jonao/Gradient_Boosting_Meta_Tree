{
 "cells": [
  {
   "cell_type": "code",
   "execution_count": 1,
   "metadata": {},
   "outputs": [],
   "source": [
    "import sys, os\n",
    "sys.path.append(\"/Users/1nao/GitHub/BayesML-alpha\")\n",
    "\n",
    "import numpy as np\n",
    "import os\n",
    "from bayesml import metatree\n",
    "from bayesml import normal\n",
    "import warnings\n",
    "warnings.filterwarnings('ignore', category=FutureWarning)\n",
    "import matplotlib.pyplot as plt\n",
    "import plotly.graph_objects as go\n",
    "from tqdm.notebook import tqdm\n",
    "from collections import Counter\n",
    "import pathlib\n",
    "from copy import deepcopy"
   ]
  },
  {
   "cell_type": "code",
   "execution_count": 2,
   "metadata": {},
   "outputs": [],
   "source": [
    "SEED = 0\n",
    "rng = np.random.default_rng(SEED)\n",
    "np.random.seed(SEED)\n",
    "MODEL_SEED = 0 # Seed for the learnmodel"
   ]
  },
  {
   "cell_type": "code",
   "execution_count": 3,
   "metadata": {},
   "outputs": [],
   "source": [
    "FILE_DIR = pathlib.Path().resolve() / 'metatree_experiment_code' / '2501_gb_nexttree'\n",
    "FIG_DIR = pathlib.Path().resolve() / 'metatree_experiment_code' / '2501_gb_nexttree' / 'fig'\n",
    "TREE_FIG_DIR = FIG_DIR / 'tree'\n",
    "os.makedirs(FIG_DIR, exist_ok=True)\n",
    "os.makedirs(TREE_FIG_DIR, exist_ok=True)"
   ]
  },
  {
   "cell_type": "markdown",
   "metadata": {},
   "source": [
    "# ベンチマークデータ読み込み"
   ]
  },
  {
   "cell_type": "code",
   "execution_count": 4,
   "metadata": {},
   "outputs": [
    {
     "data": {
      "text/plain": [
       "['Mpg',\n",
       " 'abalone',\n",
       " 'ais',\n",
       " 'automobile',\n",
       " 'baseball',\n",
       " 'baskball',\n",
       " 'boston',\n",
       " 'budget',\n",
       " 'cps',\n",
       " 'cpu',\n",
       " 'diabetes',\n",
       " 'diamond',\n",
       " 'liver',\n",
       " 'ozone',\n",
       " 'ozone_spss',\n",
       " 'servo',\n",
       " 'strikes',\n",
       " 'student',\n",
       " 'wine_quality',\n",
       " 'california']"
      ]
     },
     "execution_count": 4,
     "metadata": {},
     "output_type": "execute_result"
    }
   ],
   "source": [
    "DIR_DATA = '/Users/1nao/GitHub/metatree_experiments/regression/preprocessed_data'\n",
    "# フォルダ名一覧から全データ名を取得\n",
    "DATA_NAMES = os.listdir(DIR_DATA)\n",
    "DATA_NAMES = np.sort([d for d in DATA_NAMES if d != '.DS_Store'])\n",
    "DATA_NAMES = [data_name for data_name in DATA_NAMES if data_name != 'california'] + ['california'] # californiaはデータ数多く重いので最後に\n",
    "DATA_NAMES"
   ]
  },
  {
   "cell_type": "markdown",
   "metadata": {},
   "source": [
    "## データの読み込み"
   ]
  },
  {
   "cell_type": "markdown",
   "metadata": {},
   "source": [
    "## 関数の定義"
   ]
  },
  {
   "cell_type": "code",
   "execution_count": 5,
   "metadata": {},
   "outputs": [],
   "source": [
    "def load_data(\n",
    "        data_name: str,\n",
    "        dir_data: str=DIR_DATA,\n",
    "        flag_lr: bool = False,\n",
    "):\n",
    "    # 個人の環境でpathを変更\n",
    "    X_continuous_load = np.load(os.path.join(dir_data,data_name,'x_continuous.npy'))\n",
    "    X_categorical = np.load(os.path.join(dir_data,data_name,'x_categorical.npy')).astype(int)\n",
    "    y = np.load(os.path.join(dir_data,data_name,'y.npy'))\n",
    "\n",
    "    # 連続説明変数の標準化\n",
    "    mean = np.mean(X_continuous_load,axis=0)\n",
    "    std = np.std(X_continuous_load,axis=0)\n",
    "    X_continuous = (X_continuous_load - mean) / std\n",
    "\n",
    "    # 線形回帰で定数項を入れる処理\n",
    "    if flag_lr:\n",
    "        tmp = np.copy(X_continuous)\n",
    "        X_continuous = np.ones([tmp.shape[0],tmp.shape[1]+1])\n",
    "        X_continuous[:,:-1] = tmp\n",
    "\n",
    "    #標準化の処理\n",
    "    y = (y - y.mean()) / y.std()\n",
    "\n",
    "    return X_continuous, X_categorical, y"
   ]
  },
  {
   "cell_type": "code",
   "execution_count": 6,
   "metadata": {},
   "outputs": [],
   "source": [
    "data_name = 'california'"
   ]
  },
  {
   "cell_type": "code",
   "execution_count": 7,
   "metadata": {},
   "outputs": [
    {
     "data": {
      "text/plain": [
       "((20640, 8), (20640, 0), (20640,))"
      ]
     },
     "execution_count": 7,
     "metadata": {},
     "output_type": "execute_result"
    }
   ],
   "source": [
    "x_continuous,x_categorical,y = load_data(data_name,DIR_DATA)\n",
    "x_continuous.shape, x_categorical.shape, y.shape"
   ]
  },
  {
   "cell_type": "code",
   "execution_count": 8,
   "metadata": {},
   "outputs": [
    {
     "data": {
      "image/png": "[encoded data removed]",
      "text/plain": [
       "<Figure size 600x400 with 1 Axes>"
      ]
     },
     "metadata": {},
     "output_type": "display_data"
    }
   ],
   "source": [
    "plt.figure(figsize=(6, 4))\n",
    "plt.hist(y, bins=20, alpha=1, label='y')\n",
    "plt.show()"
   ]
  },
  {
   "cell_type": "code",
   "execution_count": 9,
   "metadata": {},
   "outputs": [
    {
     "name": "stdout",
     "output_type": "stream",
     "text": [
      "Mpg 392 11\n",
      "abalone 4177 10\n",
      "ais 202 21\n",
      "automobile 159 57\n",
      "baseball 263 90\n",
      "baskball 96 4\n",
      "boston 506 13\n",
      "budget 1729 10\n",
      "cps 534 19\n",
      "cpu 209 36\n",
      "diabetes 442 10\n",
      "diamond 308 15\n",
      "liver 345 5\n",
      "ozone 330 8\n",
      "ozone_spss 330 6\n",
      "servo 167 12\n",
      "strikes 625 22\n",
      "student 395 43\n",
      "wine_quality 4898 11\n",
      "california 20640 8\n"
     ]
    }
   ],
   "source": [
    "# すべてのデータのサンプル数と説明変数の数を確認\n",
    "for data_name in DATA_NAMES:\n",
    "    x_continuous,x_categorical,y = load_data(data_name,DIR_DATA)\n",
    "    print(data_name, x_continuous.shape[0], x_continuous.shape[1] + x_categorical.shape[1])"
   ]
  },
  {
   "cell_type": "markdown",
   "metadata": {},
   "source": [
    "## 学習と指標計算を行う関数作成"
   ]
  },
  {
   "cell_type": "code",
   "execution_count": 10,
   "metadata": {},
   "outputs": [],
   "source": [
    "# 関数の定義順の都合上木の数をここで指定\n",
    "num_tree = 100"
   ]
  },
  {
   "cell_type": "code",
   "execution_count": 11,
   "metadata": {},
   "outputs": [],
   "source": [
    "filepath = pathlib.Path().resolve() / 'metatree_experiment_code' / '241225_singletree_depth_analysis'\n",
    "sys.path.append(str(filepath))\n",
    "# from generate_assignment import generate_random_assignments_with_fixed\n",
    "# from metatree_hit_metrics import calc_chi\n",
    "from sklearn.metrics import mean_squared_error\n",
    "from scipy.stats import sem"
   ]
  },
  {
   "cell_type": "code",
   "execution_count": 12,
   "metadata": {},
   "outputs": [],
   "source": [
    "sub_h_params_learnmodel = {\n",
    "    'h0_tau_x': 1e1,\n",
    "    'h0_m': 0.,\n",
    "    'h0_tau': 1e0,\n",
    "    'known_precision': True,\n",
    "}\n",
    "max_depth = 5\n",
    "h0_split = 0.8\n",
    "learning_rate = 0.5"
   ]
  },
  {
   "cell_type": "code",
   "execution_count": 13,
   "metadata": {},
   "outputs": [],
   "source": [
    "MT_model_dict = {\n",
    "    'model': metatree.MetaTreeLearnModel,\n",
    "    'model_type': 'metatree',\n",
    "    'init_params': {\n",
    "        'SubModel': normal,\n",
    "        'sub_h0_params': sub_h_params_learnmodel, # same to true-generative model\n",
    "        'c_max_depth': max_depth,\n",
    "        'h0_split': h0_split,\n",
    "        'seed': MODEL_SEED,\n",
    "    },\n",
    "    'build_params': {\n",
    "        'split_strategy': 'best',\n",
    "        'criterion': 'squared_error_leaf',\n",
    "        'building_scheme': 'depth_first',\n",
    "    }\n",
    "}"
   ]
  },
  {
   "cell_type": "code",
   "execution_count": 14,
   "metadata": {},
   "outputs": [],
   "source": [
    "MTCART_model_dict = {\n",
    "    'model': metatree.MetaTreeLearnModel,\n",
    "    'model_type': 'metatree',\n",
    "    'init_params': {\n",
    "        'SubModel': normal,\n",
    "        'sub_h0_params': sub_h_params_learnmodel, # same to true-generative model\n",
    "        'c_max_depth': max_depth,\n",
    "        'h0_split': h0_split,\n",
    "        'seed': MODEL_SEED,\n",
    "    },\n",
    "    'build_params': {\n",
    "        'split_strategy': 'copy_from_sklearn_tree',\n",
    "        'criterion': 'squared_error_leaf',\n",
    "        # 'building_scheme': 'depth_first',\n",
    "    }\n",
    "}"
   ]
  },
  {
   "cell_type": "code",
   "execution_count": 15,
   "metadata": {},
   "outputs": [],
   "source": [
    "DT_model_dict = {\n",
    "    'model': metatree.MetaTreeLearnModel,\n",
    "    'model_type': 'metatree',\n",
    "    'init_params': {\n",
    "        'SubModel': normal,\n",
    "        'sub_h0_params': sub_h_params_learnmodel, # same to true-generative model\n",
    "        'c_max_depth': max_depth,\n",
    "        'h0_split': 1.,\n",
    "        'seed': MODEL_SEED,\n",
    "    },\n",
    "    'build_params': {\n",
    "        'split_strategy': 'best',\n",
    "        'criterion': 'squared_error_leaf',\n",
    "        'building_scheme': 'depth_first',\n",
    "    }\n",
    "}"
   ]
  },
  {
   "cell_type": "code",
   "execution_count": 16,
   "metadata": {},
   "outputs": [],
   "source": [
    "DTCART_model_dict = {\n",
    "    'model': metatree.MetaTreeLearnModel,\n",
    "    'model_type': 'metatree',\n",
    "    'init_params': {\n",
    "        'SubModel': normal,\n",
    "        'sub_h0_params': sub_h_params_learnmodel, # same to true-generative model\n",
    "        'c_max_depth': max_depth,\n",
    "        'h0_split': 1.,\n",
    "        'seed': MODEL_SEED,\n",
    "    },\n",
    "    'build_params': {\n",
    "        'split_strategy': 'copy_from_sklearn_tree',\n",
    "        'criterion': 'squared_error_leaf',\n",
    "        # 'building_scheme': 'depth_first',\n",
    "    }\n",
    "}"
   ]
  },
  {
   "cell_type": "code",
   "execution_count": 17,
   "metadata": {},
   "outputs": [],
   "source": [
    "from sklearn.ensemble import GradientBoostingRegressor\n",
    "GB_METAIZATION_model_dict = {\n",
    "    'model': metatree.SumOfMetaTreeLearnModel,\n",
    "    'model_type': 'metatree',\n",
    "    'init_params': {\n",
    "        'c_num_metatrees': num_tree,\n",
    "        'SubModel': normal,\n",
    "        'sub_h0_params': sub_h_params_learnmodel, # same to true-generative model\n",
    "        'c_max_depth': max_depth,\n",
    "        'h0_split': h0_split,\n",
    "        'learning_rate': learning_rate,\n",
    "        'seed': MODEL_SEED,\n",
    "    },\n",
    "    'build_params': {\n",
    "        'split_strategy': 'copy_sklearn_ensemble',\n",
    "        'calc_residual': False,\n",
    "        'SklearnEnsembleObj': GradientBoostingRegressor,\n",
    "        'params_sklearn_ensemble': {\n",
    "            'n_estimators': num_tree,\n",
    "            'max_depth': max_depth,\n",
    "            'learning_rate': learning_rate,\n",
    "            'random_state': MODEL_SEED,\n",
    "        },\n",
    "        'update_leaf_with_residual': True,\n",
    "    }\n",
    "}"
   ]
  },
  {
   "cell_type": "code",
   "execution_count": 18,
   "metadata": {},
   "outputs": [],
   "source": [
    "MTGB_model_dict = {\n",
    "    'model': metatree.SumOfMetaTreeLearnModel,\n",
    "    'model_type': 'metatree',\n",
    "    'init_params': {\n",
    "        'c_num_metatrees': num_tree,\n",
    "        'SubModel': normal,\n",
    "        'sub_h0_params': sub_h_params_learnmodel,\n",
    "        'c_max_depth': max_depth,\n",
    "        'h0_split': h0_split,\n",
    "        'learning_rate': learning_rate,\n",
    "        'seed': MODEL_SEED,\n",
    "    },\n",
    "    'build_params': {\n",
    "        'split_strategy': 'best',\n",
    "        'building_scheme': 'depth_first',\n",
    "        'calc_residual': True,\n",
    "    }\n",
    "}"
   ]
  },
  {
   "cell_type": "markdown",
   "metadata": {},
   "source": [
    "## Define functions"
   ]
  },
  {
   "cell_type": "code",
   "execution_count": 19,
   "metadata": {},
   "outputs": [],
   "source": [
    "from sklearn.tree import DecisionTreeRegressor\n",
    "def learn_predict_manual_gb(\n",
    "        x_continuous_train, x_categorical_train, y_train,\n",
    "        x_continuous_test, x_categorical_test, y_test,\n",
    "        num_tree,\n",
    "        do_metatree: int, # 1: MT for all trees, 0: DT for the last tree, -1: DT for all trees\n",
    "):\n",
    "        data_info = {\n",
    "                'c_dim_continuous': x_continuous_train.shape[1],\n",
    "                'c_dim_categorical': x_categorical_train.shape[1],\n",
    "        }\n",
    "        tree_list = [None for _ in range(num_tree)]\n",
    "        hat_y_train_list = [None for _ in range(num_tree)]\n",
    "        hat_y_test_list = [None for _ in range(num_tree)]\n",
    "        residual_train = deepcopy(y_train)\n",
    "        for i in range(num_tree):\n",
    "                if do_metatree==0:\n",
    "                        if i == num_tree - 1:\n",
    "                                model_dict = DT_model_dict\n",
    "                                # model_dict = DTCART_model_dict\n",
    "                        else:\n",
    "                                model_dict = MT_model_dict\n",
    "                                # model_dict = MTCART_model_dict\n",
    "                if do_metatree==1:\n",
    "                        model_dict = MT_model_dict\n",
    "                        # model_dict = MTCART_model_dict\n",
    "                if do_metatree==-1:\n",
    "                        model_dict = DT_model_dict\n",
    "                        # model_dict = DTCART_model_dict\n",
    "                init_inputs = {\n",
    "                        **model_dict['init_params'],\n",
    "                        **data_info,\n",
    "                }\n",
    "                input_data = {\n",
    "                        'x_continuous_vecs': x_continuous_train,\n",
    "                        'x_categorical_vecs': x_categorical_train,\n",
    "                        'y_vec': residual_train,\n",
    "                }\n",
    "                input_tree = {\n",
    "                        'sklearn_tree': DecisionTreeRegressor(\n",
    "                                max_depth=model_dict['init_params']['c_max_depth'],\n",
    "                                random_state=SEED,\n",
    "                        ),\n",
    "                }\n",
    "                input_tree['sklearn_tree'].fit(\n",
    "                        np.concatenate([x_continuous_train, x_categorical_train], axis=1),\n",
    "                        residual_train,\n",
    "                )\n",
    "                build_inputs = {\n",
    "                        **model_dict['build_params'],\n",
    "                        **input_tree,\n",
    "                        **input_data,\n",
    "                }\n",
    "                model = model_dict['model'](**init_inputs)\n",
    "                model.build(**build_inputs)\n",
    "                model.calc_pred_dist()\n",
    "                tree_list[i] = model\n",
    "\n",
    "                hat_y_train_list[i] = model.make_prediction(\n",
    "                        x_continuous_train,\n",
    "                        x_categorical_train,\n",
    "                        loss='squared',\n",
    "                )\n",
    "                hat_y_test_list[i] = model.make_prediction(\n",
    "                        x_continuous_test,\n",
    "                        x_categorical_test,\n",
    "                        loss='squared',\n",
    "                )\n",
    "                residual_train -= hat_y_train_list[i] * learning_rate\n",
    "        hat_y_train = np.sum(np.array(hat_y_train_list), axis=0) * learning_rate       \n",
    "        hat_y_test = np.sum(np.array(hat_y_test_list), axis=0) * learning_rate\n",
    "        return hat_y_train, hat_y_test, tree_list"
   ]
  },
  {
   "cell_type": "code",
   "execution_count": 20,
   "metadata": {},
   "outputs": [],
   "source": [
    "from sklearn.tree import DecisionTreeRegressor\n",
    "def learn_predict(\n",
    "        x_continuous_train, x_categorical_train, y_train,\n",
    "        x_continuous_test, x_categorical_test, y_test,\n",
    "        num_tree,\n",
    "        do_metatree: int, # 1: MT for all trees, 0: DT for the last tree, -1: DT for all trees(GradientBoostingRegressor)\n",
    "):\n",
    "        data_info = {\n",
    "                'c_dim_continuous': x_continuous_train.shape[1],\n",
    "                'c_dim_categorical': x_categorical_train.shape[1],\n",
    "        }\n",
    "        tree_list = [None for _ in range(num_tree)]\n",
    "        hat_y_train_list = [None for _ in range(num_tree)]\n",
    "        hat_y_test_list = [None for _ in range(num_tree)]\n",
    "        residual_train = deepcopy(y_train)\n",
    "        for i in range(num_tree):\n",
    "                if do_metatree==0:\n",
    "                        if i == num_tree - 1:\n",
    "                                model_dict = DT_model_dict\n",
    "                                # model_dict = DTCART_model_dict\n",
    "                        else:\n",
    "                                model_dict = MT_model_dict\n",
    "                                # model_dict = MTCART_model_dict\n",
    "                if do_metatree==1:\n",
    "                        model_dict = MT_model_dict\n",
    "                        # model_dict = MTCART_model_dict\n",
    "                if do_metatree==-1:\n",
    "                        model_dict = DT_model_dict\n",
    "                        # model_dict = DTCART_model_dict\n",
    "                init_inputs = {\n",
    "                        **model_dict['init_params'],\n",
    "                        **data_info,\n",
    "                }\n",
    "                input_data = {\n",
    "                        'x_continuous_vecs': x_continuous_train,\n",
    "                        'x_categorical_vecs': x_categorical_train,\n",
    "                        'y_vec': residual_train,\n",
    "                }\n",
    "                input_tree = {\n",
    "                        'sklearn_tree': DecisionTreeRegressor(\n",
    "                                max_depth=model_dict['init_params']['c_max_depth'],\n",
    "                                random_state=SEED,\n",
    "                        ),\n",
    "                }\n",
    "                input_tree['sklearn_tree'].fit(\n",
    "                        np.concatenate([x_continuous_train, x_categorical_train], axis=1),\n",
    "                        residual_train,\n",
    "                )\n",
    "                build_inputs = {\n",
    "                        **model_dict['build_params'],\n",
    "                        **input_tree,\n",
    "                        **input_data,\n",
    "                }\n",
    "                model = model_dict['model'](**init_inputs)\n",
    "                model.build(**build_inputs)\n",
    "                model.calc_pred_dist()\n",
    "                tree_list[i] = model\n",
    "\n",
    "                hat_y_train_list[i] = model.make_prediction(\n",
    "                        x_continuous_train,\n",
    "                        x_categorical_train,\n",
    "                        loss='squared',\n",
    "                )\n",
    "                hat_y_test_list[i] = model.make_prediction(\n",
    "                        x_continuous_test,\n",
    "                        x_categorical_test,\n",
    "                        loss='squared',\n",
    "                )\n",
    "                residual_train -= hat_y_train_list[i] * learning_rate\n",
    "        hat_y_train = np.sum(np.array(hat_y_train_list), axis=0) * learning_rate       \n",
    "        hat_y_test = np.sum(np.array(hat_y_test_list), axis=0) * learning_rate\n",
    "        return hat_y_train, hat_y_test, tree_list"
   ]
  },
  {
   "cell_type": "code",
   "execution_count": 21,
   "metadata": {},
   "outputs": [],
   "source": [
    "def learn_and_predict(\n",
    "        x_continuous_train, x_categorical_train, y_train,\n",
    "        x_continuous_test, x_categorical_test, y_test,\n",
    "        data_roop_id,\n",
    "        num_tree,\n",
    "        do_metatree,\n",
    "        visualize,\n",
    "):\n",
    "        hat_y_train, hat_y_test, tree_list = learn_predict_manual_gb(\n",
    "                x_continuous_train, x_categorical_train, y_train,\n",
    "                x_continuous_test, x_categorical_test, y_test,\n",
    "                num_tree,\n",
    "                do_metatree=do_metatree,\n",
    "        )\n",
    "\n",
    "        if visualize:\n",
    "                for i, learntree in enumerate(tree_list):\n",
    "                        tree_graph, _ = learntree.visualize_model(\n",
    "                                view=False,\n",
    "                        )\n",
    "                        tree_graph.render(TREE_FIG_DIR / f'learntree_data{data_roop_id}_tree{i}_maxdepth{max_depth}_h0split{h0_split}', format='png', cleanup=True)\n",
    "\n",
    "        return hat_y_train, hat_y_test, tree_list"
   ]
  },
  {
   "cell_type": "code",
   "execution_count": 22,
   "metadata": {},
   "outputs": [],
   "source": [
    "def pred_measure_performance(\n",
    "        x_continuous_train, x_categorical_train, y_train,\n",
    "        x_continuous_test, x_categorical_test, y_test,\n",
    "        data_roop_id,\n",
    "        num_tree,\n",
    "        do_metatree,\n",
    "        visualize,\n",
    "):\n",
    "    hat_y_train, hat_y_test, tree_list = learn_and_predict(\n",
    "        x_continuous_train, x_categorical_train, y_train,\n",
    "        x_continuous_test, x_categorical_test, y_test,\n",
    "        data_roop_id=data_roop_id,\n",
    "        num_tree=num_tree,\n",
    "        do_metatree=do_metatree,\n",
    "        visualize=visualize,\n",
    "    )\n",
    "    train_mse = mean_squared_error(y_train, hat_y_train)\n",
    "    test_mse = mean_squared_error(y_test, hat_y_test)\n",
    "    return train_mse, test_mse"
   ]
  },
  {
   "cell_type": "code",
   "execution_count": 23,
   "metadata": {},
   "outputs": [],
   "source": [
    "from sklearn.ensemble import GradientBoostingRegressor\n",
    "def pred_measure_performance_gb(\n",
    "        x_continuous_train, x_categorical_train, y_train,\n",
    "        x_continuous_test, x_categorical_test, y_test,\n",
    "        num_tree,\n",
    "):\n",
    "    x_train = np.concatenate([x_continuous_train, x_categorical_train], axis=1)\n",
    "    x_test = np.concatenate([x_continuous_test, x_categorical_test], axis=1)\n",
    "\n",
    "    gb = GradientBoostingRegressor(n_estimators=num_tree, learning_rate=learning_rate, max_depth=max_depth, random_state=MODEL_SEED)\n",
    "    gb.fit(x_train, y_train)\n",
    "    hat_y_train = gb.predict(x_train)\n",
    "    hat_y_test = gb.predict(x_test)\n",
    "\n",
    "    train_mse = mean_squared_error(y_train, hat_y_train)\n",
    "    test_mse = mean_squared_error(y_test, hat_y_test)\n",
    "    return train_mse, test_mse"
   ]
  },
  {
   "cell_type": "code",
   "execution_count": 24,
   "metadata": {},
   "outputs": [],
   "source": [
    "def pred_measure_performance_mtgb(\n",
    "        x_continuous_train, x_categorical_train, y_train,\n",
    "        x_continuous_test, x_categorical_test, y_test,\n",
    "        num_tree,\n",
    "):\n",
    "        data_info = {\n",
    "                'c_dim_continuous': x_continuous_train.shape[1],\n",
    "                'c_dim_categorical': x_categorical_train.shape[1],\n",
    "        }\n",
    "        init_inputs = {\n",
    "                **MTGB_model_dict['init_params'],\n",
    "                **data_info,\n",
    "        }\n",
    "\n",
    "        build_inputs = {\n",
    "                **MTGB_model_dict['build_params'],\n",
    "                'x_continuous_vecs': x_continuous_train,\n",
    "                'x_categorical_vecs': x_categorical_train,\n",
    "                'y_vec': y_train,\n",
    "        }\n",
    "        model = MTGB_model_dict['model'](**init_inputs)\n",
    "        model.build_metatrees(**build_inputs)\n",
    "        # model.calc_pred_dist()\n",
    "\n",
    "        hat_y_train = model.make_prediction(\n",
    "                x_continuous_train,\n",
    "                x_categorical_train,\n",
    "                loss='squared',\n",
    "        )\n",
    "        hat_y_test = model.make_prediction(\n",
    "                x_continuous_test,\n",
    "                x_categorical_test,\n",
    "                loss='squared',\n",
    "        )\n",
    "\n",
    "        train_mse = mean_squared_error(y_train, hat_y_train)\n",
    "        test_mse = mean_squared_error(y_test, hat_y_test)\n",
    "        \n",
    "        root_split_proba_list = [None for _ in model.hn_metatree_list]\n",
    "        for i, metatree in enumerate(model.hn_metatree_list):\n",
    "                root_split_proba_list[i] = metatree.root_node.hn_split\n",
    "\n",
    "        return train_mse, test_mse, root_split_proba_list"
   ]
  },
  {
   "cell_type": "code",
   "execution_count": 25,
   "metadata": {},
   "outputs": [],
   "source": [
    "\n",
    "def pred_measure_performance_gb_metaization(\n",
    "        x_continuous_train, x_categorical_train, y_train,\n",
    "        x_continuous_test, x_categorical_test, y_test,\n",
    "        num_tree,\n",
    "):\n",
    "        data_info = {\n",
    "                'c_dim_continuous': x_continuous_train.shape[1],\n",
    "                'c_dim_categorical': x_categorical_train.shape[1],\n",
    "        }\n",
    "        init_inputs = {\n",
    "                **GB_METAIZATION_model_dict['init_params'],\n",
    "                **data_info,\n",
    "        }\n",
    "\n",
    "        build_inputs = {\n",
    "                **GB_METAIZATION_model_dict['build_params'],\n",
    "                'x_continuous_vecs': x_continuous_train,\n",
    "                'x_categorical_vecs': x_categorical_train,\n",
    "                'y_vec': y_train,\n",
    "        }\n",
    "        model = GB_METAIZATION_model_dict['model'](**init_inputs)\n",
    "        model.build_metatrees(**build_inputs)\n",
    "        # model.calc_pred_dist()\n",
    "\n",
    "        hat_y_train = model.make_prediction(\n",
    "                x_continuous_train,\n",
    "                x_categorical_train,\n",
    "                loss='squared',\n",
    "        )\n",
    "        hat_y_test = model.make_prediction(\n",
    "                x_continuous_test,\n",
    "                x_categorical_test,\n",
    "                loss='squared',\n",
    "        )\n",
    "\n",
    "        train_mse = mean_squared_error(y_train, hat_y_train)\n",
    "        test_mse = mean_squared_error(y_test, hat_y_test)\n",
    "\n",
    "        root_split_proba_list = [None for _ in model.hn_metatree_list]\n",
    "        for i, metatree in enumerate(model.hn_metatree_list):\n",
    "                root_split_proba_list[i] = metatree.root_node.hn_split\n",
    "\n",
    "        return train_mse, test_mse, root_split_proba_list"
   ]
  },
  {
   "cell_type": "code",
   "execution_count": 26,
   "metadata": {},
   "outputs": [],
   "source": [
    "ERROR_ARR_SAVE_DIR = FILE_DIR / 'error_array'\n",
    "os.makedirs(ERROR_ARR_SAVE_DIR, exist_ok=True)\n",
    "\n",
    "from sklearn.model_selection import KFold\n",
    "def roop_kfold(\n",
    "        data_name,\n",
    "        num_tree,\n",
    "        modelname,\n",
    "        # do_metatree,\n",
    "        visualize,\n",
    "        num_cv=3,\n",
    "        num_folds=5,\n",
    "):\n",
    "        num_trials = num_cv * num_folds\n",
    "        x_continuous,x_categorical,y = load_data(data_name,DIR_DATA)\n",
    "        \n",
    "        # load mse list from ERROR_ARR_SAVE_DIR\n",
    "        # try:\n",
    "        #         train_mse_list = list(np.load(ERROR_ARR_SAVE_DIR / f'{data_name}_{modelname}_train_mse.npy'))\n",
    "        #         test_mse_list = list(np.load(ERROR_ARR_SAVE_DIR / f'{data_name}_{modelname}_test_mse.npy'))\n",
    "        # except:\n",
    "        #         # tqdm.write(f'No file found. Create new list.')\n",
    "        #         train_mse_list = []\n",
    "        #         test_mse_list = []\n",
    "        train_mse_list = []\n",
    "        test_mse_list = []\n",
    "        if modelname in ['MTGB', 'GB_metaization']:\n",
    "                root_split_proba_list_list = []\n",
    "\n",
    "        with tqdm(total=num_cv, desc=f'{num_cv}CV', leave=False) as bar1:\n",
    "                for i in range(num_cv):\n",
    "                        with tqdm(total=num_folds, desc=f'{num_folds} folds', leave=False) as bar2:\n",
    "                                kf = KFold(n_splits=num_folds, shuffle=True, random_state=SEED+i)\n",
    "                                for j, (train_index, test_index) in enumerate(kf.split(y)):\n",
    "                                        x_continuous_train, x_continuous_test = x_continuous[train_index], x_continuous[test_index]\n",
    "                                        x_categorical_train, x_categorical_test = x_categorical[train_index], x_categorical[test_index]\n",
    "                                        y_train, y_test = y[train_index], y[test_index]\n",
    "                                        if modelname == 'MT':\n",
    "                                                do_metatree = 1\n",
    "                                        elif modelname == 'last_DT':\n",
    "                                                do_metatree = 0\n",
    "                                        elif modelname == 'all_DT':\n",
    "                                                do_metatree = -1\n",
    "                                        elif modelname == 'GB':\n",
    "                                                train_mse, test_mse = pred_measure_performance_gb(\n",
    "                                                        x_continuous_train, x_categorical_train, y_train,\n",
    "                                                        x_continuous_test, x_categorical_test, y_test,\n",
    "                                                        num_tree=num_tree,\n",
    "                                                )\n",
    "                                                train_mse_list.append(train_mse)\n",
    "                                                test_mse_list.append(test_mse)\n",
    "                                                bar2.update(1)\n",
    "                                                continue\n",
    "                                        elif modelname == 'GB_metaization':\n",
    "                                                train_mse, test_mse, root_split_proba_list = pred_measure_performance_gb_metaization(\n",
    "                                                        x_continuous_train, x_categorical_train, y_train,\n",
    "                                                        x_continuous_test, x_categorical_test, y_test,\n",
    "                                                        num_tree=num_tree,\n",
    "                                                )\n",
    "                                                train_mse_list.append(train_mse)\n",
    "                                                test_mse_list.append(test_mse)\n",
    "                                                bar2.update(1)\n",
    "                                                continue\n",
    "                                        elif modelname == 'MTGB':\n",
    "                                                train_mse, test_mse, root_split_proba_list = pred_measure_performance_mtgb(\n",
    "                                                        x_continuous_train, x_categorical_train, y_train,\n",
    "                                                        x_continuous_test, x_categorical_test, y_test,\n",
    "                                                        num_tree=num_tree,\n",
    "                                                )\n",
    "                                                train_mse_list.append(train_mse)\n",
    "                                                test_mse_list.append(test_mse)\n",
    "                                                root_split_proba_list_list.append(root_split_proba_list)\n",
    "                                                bar2.update(1)\n",
    "                                                continue\n",
    "                                        else:\n",
    "                                                raise ValueError('modelname is invalid')\n",
    "                                        train_mse, test_mse = pred_measure_performance(\n",
    "                                                x_continuous_train, x_categorical_train, y_train,\n",
    "                                                x_continuous_test, x_categorical_test, y_test,\n",
    "                                                data_roop_id=f'_{data_name}_cv{i}_fold{j}',\n",
    "                                                num_tree=num_tree,\n",
    "                                                do_metatree=do_metatree,\n",
    "                                                visualize=visualize,\n",
    "                                        )\n",
    "                                        train_mse_list.append(train_mse)\n",
    "                                        test_mse_list.append(test_mse)\n",
    "                                        bar2.update(1)\n",
    "                        bar1.update(1)\n",
    "        np.save(ERROR_ARR_SAVE_DIR / f'{data_name}_{modelname}{num_tree}_depth{max_depth}_train_mse.npy', np.array(train_mse_list))\n",
    "        np.save(ERROR_ARR_SAVE_DIR / f'{data_name}_{modelname}{num_tree}_depth{max_depth}_test_mse.npy', np.array(test_mse_list))\n",
    "        if modelname == 'MTGB':\n",
    "                np.save(ERROR_ARR_SAVE_DIR / f'{data_name}_{modelname}{num_tree}_depth{max_depth}_root_split_proba_list.npy', np.array(root_split_proba_list_list))\n",
    "        return"
   ]
  },
  {
   "cell_type": "markdown",
   "metadata": {},
   "source": [
    "## execute roops"
   ]
  },
  {
   "cell_type": "code",
   "execution_count": 27,
   "metadata": {},
   "outputs": [],
   "source": [
    "# ignore warnings\n",
    "import warnings\n",
    "warnings.filterwarnings('ignore')"
   ]
  },
  {
   "cell_type": "code",
   "execution_count": 28,
   "metadata": {},
   "outputs": [],
   "source": [
    "MODELNAME_LIST = [\n",
    "    # 'MT', \n",
    "    'MTGB',\n",
    "    # 'all_DT', \n",
    "    'GB',\n",
    "    'GB_metaization',\n",
    "    ]"
   ]
  },
  {
   "cell_type": "code",
   "execution_count": 29,
   "metadata": {},
   "outputs": [],
   "source": [
    "def experiment(\n",
    "    data_name,\n",
    "    num_tree,\n",
    "    visualize,\n",
    "    num_cv,\n",
    "    num_folds,\n",
    "):\n",
    "    with tqdm(total=len(MODELNAME_LIST), desc=\"Model\", leave=False) as pbar:\n",
    "        for modelname in MODELNAME_LIST:\n",
    "            txt = f'{data_name}: model = {modelname}'\n",
    "            pbar.set_postfix_str(txt)\n",
    "            roop_kfold(\n",
    "                data_name,\n",
    "                num_tree,\n",
    "                modelname,\n",
    "                visualize,\n",
    "                num_cv,\n",
    "                num_folds,\n",
    "            )\n",
    "            pbar.update(1)\n",
    "    return"
   ]
  },
  {
   "cell_type": "code",
   "execution_count": 30,
   "metadata": {},
   "outputs": [],
   "source": [
    "import pandas as pd\n",
    "def resume_res_dict(\n",
    "        data_name,\n",
    "):\n",
    "    res_dict = {\n",
    "        data_name: {}\n",
    "    }\n",
    "    for modelname in MODELNAME_LIST:\n",
    "        train_mse_list = list(np.load(ERROR_ARR_SAVE_DIR / f'{data_name}_{modelname}_train_mse.npy'))\n",
    "        test_mse_list = list(np.load(ERROR_ARR_SAVE_DIR / f'{data_name}_{modelname}_test_mse.npy'))\n",
    "        res_dict[data_name][f'train_mse_mean_{modelname}'] = np.mean(train_mse_list)\n",
    "        res_dict[data_name][f'train_mse_sem_{modelname}'] = sem(train_mse_list)\n",
    "        res_dict[data_name][f'test_mse_mean_{modelname}'] = np.mean(test_mse_list)\n",
    "        res_dict[data_name][f'test_mse_sem_{modelname}'] = sem(test_mse_list)\n",
    "    df_resume = pd.DataFrame(res_dict).T\n",
    "    \n",
    "    return df_resume"
   ]
  },
  {
   "cell_type": "code",
   "execution_count": 31,
   "metadata": {},
   "outputs": [],
   "source": [
    "# stop warnings\n",
    "warnings.filterwarnings('ignore')"
   ]
  },
  {
   "cell_type": "code",
   "execution_count": 32,
   "metadata": {},
   "outputs": [
    {
     "data": {
      "text/plain": [
       "['Mpg',\n",
       " 'abalone',\n",
       " 'ais',\n",
       " 'automobile',\n",
       " 'baseball',\n",
       " 'baskball',\n",
       " 'boston',\n",
       " 'budget',\n",
       " 'cps',\n",
       " 'cpu',\n",
       " 'diabetes',\n",
       " 'diamond',\n",
       " 'liver',\n",
       " 'ozone',\n",
       " 'ozone_spss',\n",
       " 'servo',\n",
       " 'strikes',\n",
       " 'student',\n",
       " 'wine_quality',\n",
       " 'california']"
      ]
     },
     "execution_count": 32,
     "metadata": {},
     "output_type": "execute_result"
    }
   ],
   "source": [
    "DATA_NAMES"
   ]
  },
  {
   "cell_type": "code",
   "execution_count": 33,
   "metadata": {},
   "outputs": [
    {
     "data": {
      "text/plain": [
       "['Mpg',\n",
       " 'abalone',\n",
       " 'ais',\n",
       " 'automobile',\n",
       " 'baseball',\n",
       " 'baskball',\n",
       " 'boston',\n",
       " 'budget',\n",
       " 'cps',\n",
       " 'cpu']"
      ]
     },
     "execution_count": 33,
     "metadata": {},
     "output_type": "execute_result"
    }
   ],
   "source": [
    "# DATA_NAMES の中から走らせるデータを設定\n",
    "# Mpg, abaloneは最初に実行済み\n",
    "# californiaはデータ数が多いので実行しない\n",
    "RUNNING_DATA_NAMES_EXCEPT_CALIFORNIA = DATA_NAMES[:10]\n",
    "RUNNING_DATA_NAMES_EXCEPT_CALIFORNIA"
   ]
  },
  {
   "cell_type": "code",
   "execution_count": 34,
   "metadata": {},
   "outputs": [
    {
     "name": "stdout",
     "output_type": "stream",
     "text": [
      "num_cv: 3, num_folds: 5, visualize: False, num_tree: 100\n"
     ]
    },
    {
     "data": {
      "application/vnd.jupyter.widget-view+json": {
       "model_id": "33056a5c322d4d8d86a96dd57954fcc3",
       "version_major": 2,
       "version_minor": 0
      },
      "text/plain": [
       "Data:   0%|          | 0/10 [00:00<?, ?it/s]"
      ]
     },
     "metadata": {},
     "output_type": "display_data"
    },
    {
     "data": {
      "application/vnd.jupyter.widget-view+json": {
       "model_id": "70ac15e6f1764baa957eaaf99d3da4ad",
       "version_major": 2,
       "version_minor": 0
      },
      "text/plain": [
       "Model:   0%|          | 0/3 [00:00<?, ?it/s]"
      ]
     },
     "metadata": {},
     "output_type": "display_data"
    },
    {
     "data": {
      "application/vnd.jupyter.widget-view+json": {
       "model_id": "97272085eb7a476498b9526f7c21d645",
       "version_major": 2,
       "version_minor": 0
      },
      "text/plain": [
       "3CV:   0%|          | 0/3 [00:00<?, ?it/s]"
      ]
     },
     "metadata": {},
     "output_type": "display_data"
    },
    {
     "data": {
      "application/vnd.jupyter.widget-view+json": {
       "model_id": "635efac19da04aa78c34ab96292b7cab",
       "version_major": 2,
       "version_minor": 0
      },
      "text/plain": [
       "5 folds:   0%|          | 0/5 [00:00<?, ?it/s]"
      ]
     },
     "metadata": {},
     "output_type": "display_data"
    },
    {
     "data": {
      "application/vnd.jupyter.widget-view+json": {
       "model_id": "1ca98756bd92465f9e3f612872d52508",
       "version_major": 2,
       "version_minor": 0
      },
      "text/plain": [
       "5 folds:   0%|          | 0/5 [00:00<?, ?it/s]"
      ]
     },
     "metadata": {},
     "output_type": "display_data"
    },
    {
     "data": {
      "application/vnd.jupyter.widget-view+json": {
       "model_id": "3eb8a0f783f54cc7aa314d4b537b7ddc",
       "version_major": 2,
       "version_minor": 0
      },
      "text/plain": [
       "5 folds:   0%|          | 0/5 [00:00<?, ?it/s]"
      ]
     },
     "metadata": {},
     "output_type": "display_data"
    },
    {
     "data": {
      "application/vnd.jupyter.widget-view+json": {
       "model_id": "57da17917ce84f7ba3d48d7a7a14de71",
       "version_major": 2,
       "version_minor": 0
      },
      "text/plain": [
       "3CV:   0%|          | 0/3 [00:00<?, ?it/s]"
      ]
     },
     "metadata": {},
     "output_type": "display_data"
    },
    {
     "data": {
      "application/vnd.jupyter.widget-view+json": {
       "model_id": "679c8821f4fe49dd9b13ddc60025c8fe",
       "version_major": 2,
       "version_minor": 0
      },
      "text/plain": [
       "5 folds:   0%|          | 0/5 [00:00<?, ?it/s]"
      ]
     },
     "metadata": {},
     "output_type": "display_data"
    },
    {
     "data": {
      "application/vnd.jupyter.widget-view+json": {
       "model_id": "ed1f54100a124854a02fe34792f9ef48",
       "version_major": 2,
       "version_minor": 0
      },
      "text/plain": [
       "5 folds:   0%|          | 0/5 [00:00<?, ?it/s]"
      ]
     },
     "metadata": {},
     "output_type": "display_data"
    },
    {
     "data": {
      "application/vnd.jupyter.widget-view+json": {
       "model_id": "d3c4b8b0e82f429b821d17e7b66843a6",
       "version_major": 2,
       "version_minor": 0
      },
      "text/plain": [
       "5 folds:   0%|          | 0/5 [00:00<?, ?it/s]"
      ]
     },
     "metadata": {},
     "output_type": "display_data"
    },
    {
     "data": {
      "application/vnd.jupyter.widget-view+json": {
       "model_id": "5ae7b21b15a14c17b3e4ad84f7a93203",
       "version_major": 2,
       "version_minor": 0
      },
      "text/plain": [
       "3CV:   0%|          | 0/3 [00:00<?, ?it/s]"
      ]
     },
     "metadata": {},
     "output_type": "display_data"
    },
    {
     "data": {
      "application/vnd.jupyter.widget-view+json": {
       "model_id": "3b3d099d0ad048a5b94bc0f2ed8f09da",
       "version_major": 2,
       "version_minor": 0
      },
      "text/plain": [
       "5 folds:   0%|          | 0/5 [00:00<?, ?it/s]"
      ]
     },
     "metadata": {},
     "output_type": "display_data"
    },
    {
     "data": {
      "application/vnd.jupyter.widget-view+json": {
       "model_id": "a3865990a38b487e8e2c304d78f5439f",
       "version_major": 2,
       "version_minor": 0
      },
      "text/plain": [
       "5 folds:   0%|          | 0/5 [00:00<?, ?it/s]"
      ]
     },
     "metadata": {},
     "output_type": "display_data"
    },
    {
     "data": {
      "application/vnd.jupyter.widget-view+json": {
       "model_id": "f18b44fdcaab46e6be89558d91b29ab3",
       "version_major": 2,
       "version_minor": 0
      },
      "text/plain": [
       "5 folds:   0%|          | 0/5 [00:00<?, ?it/s]"
      ]
     },
     "metadata": {},
     "output_type": "display_data"
    },
    {
     "data": {
      "application/vnd.jupyter.widget-view+json": {
       "model_id": "4c29c7bddef348faaeb21bc0a70958b6",
       "version_major": 2,
       "version_minor": 0
      },
      "text/plain": [
       "Model:   0%|          | 0/3 [00:00<?, ?it/s]"
      ]
     },
     "metadata": {},
     "output_type": "display_data"
    },
    {
     "data": {
      "application/vnd.jupyter.widget-view+json": {
       "model_id": "015bf675e4eb480f92def3552cb65115",
       "version_major": 2,
       "version_minor": 0
      },
      "text/plain": [
       "3CV:   0%|          | 0/3 [00:00<?, ?it/s]"
      ]
     },
     "metadata": {},
     "output_type": "display_data"
    },
    {
     "data": {
      "application/vnd.jupyter.widget-view+json": {
       "model_id": "7ef593124e814a8c94a9240acac1a298",
       "version_major": 2,
       "version_minor": 0
      },
      "text/plain": [
       "5 folds:   0%|          | 0/5 [00:00<?, ?it/s]"
      ]
     },
     "metadata": {},
     "output_type": "display_data"
    },
    {
     "data": {
      "application/vnd.jupyter.widget-view+json": {
       "model_id": "e599dc487528471593adef278061cb69",
       "version_major": 2,
       "version_minor": 0
      },
      "text/plain": [
       "5 folds:   0%|          | 0/5 [00:00<?, ?it/s]"
      ]
     },
     "metadata": {},
     "output_type": "display_data"
    },
    {
     "data": {
      "application/vnd.jupyter.widget-view+json": {
       "model_id": "c94b70766bb641aa86cbe10660798a35",
       "version_major": 2,
       "version_minor": 0
      },
      "text/plain": [
       "5 folds:   0%|          | 0/5 [00:00<?, ?it/s]"
      ]
     },
     "metadata": {},
     "output_type": "display_data"
    },
    {
     "data": {
      "application/vnd.jupyter.widget-view+json": {
       "model_id": "4b4be4172f05467397a5084cf3354221",
       "version_major": 2,
       "version_minor": 0
      },
      "text/plain": [
       "3CV:   0%|          | 0/3 [00:00<?, ?it/s]"
      ]
     },
     "metadata": {},
     "output_type": "display_data"
    },
    {
     "data": {
      "application/vnd.jupyter.widget-view+json": {
       "model_id": "21c19d15c78b4f2ca3f2c78148041dc6",
       "version_major": 2,
       "version_minor": 0
      },
      "text/plain": [
       "5 folds:   0%|          | 0/5 [00:00<?, ?it/s]"
      ]
     },
     "metadata": {},
     "output_type": "display_data"
    },
    {
     "data": {
      "application/vnd.jupyter.widget-view+json": {
       "model_id": "90ae8a542db1410191addf9a4f0a810b",
       "version_major": 2,
       "version_minor": 0
      },
      "text/plain": [
       "5 folds:   0%|          | 0/5 [00:00<?, ?it/s]"
      ]
     },
     "metadata": {},
     "output_type": "display_data"
    },
    {
     "data": {
      "application/vnd.jupyter.widget-view+json": {
       "model_id": "ed39b42151cc4aed8d2d84e8daeb5a59",
       "version_major": 2,
       "version_minor": 0
      },
      "text/plain": [
       "5 folds:   0%|          | 0/5 [00:00<?, ?it/s]"
      ]
     },
     "metadata": {},
     "output_type": "display_data"
    },
    {
     "data": {
      "application/vnd.jupyter.widget-view+json": {
       "model_id": "f07965a857df4b35a3e7743282ad695d",
       "version_major": 2,
       "version_minor": 0
      },
      "text/plain": [
       "3CV:   0%|          | 0/3 [00:00<?, ?it/s]"
      ]
     },
     "metadata": {},
     "output_type": "display_data"
    },
    {
     "data": {
      "application/vnd.jupyter.widget-view+json": {
       "model_id": "b412d88a6d7e429eb1c7d8a12ee35607",
       "version_major": 2,
       "version_minor": 0
      },
      "text/plain": [
       "5 folds:   0%|          | 0/5 [00:00<?, ?it/s]"
      ]
     },
     "metadata": {},
     "output_type": "display_data"
    },
    {
     "data": {
      "application/vnd.jupyter.widget-view+json": {
       "model_id": "ba974b5810024f0f8d27d50987a16c1c",
       "version_major": 2,
       "version_minor": 0
      },
      "text/plain": [
       "5 folds:   0%|          | 0/5 [00:00<?, ?it/s]"
      ]
     },
     "metadata": {},
     "output_type": "display_data"
    },
    {
     "data": {
      "application/vnd.jupyter.widget-view+json": {
       "model_id": "62a313088e5a48b390638d35ad70c473",
       "version_major": 2,
       "version_minor": 0
      },
      "text/plain": [
       "5 folds:   0%|          | 0/5 [00:00<?, ?it/s]"
      ]
     },
     "metadata": {},
     "output_type": "display_data"
    },
    {
     "data": {
      "application/vnd.jupyter.widget-view+json": {
       "model_id": "ec41c421560541f2adf867af44c2e2ed",
       "version_major": 2,
       "version_minor": 0
      },
      "text/plain": [
       "Model:   0%|          | 0/3 [00:00<?, ?it/s]"
      ]
     },
     "metadata": {},
     "output_type": "display_data"
    },
    {
     "data": {
      "application/vnd.jupyter.widget-view+json": {
       "model_id": "cc39716c543b4cfcaa588975f8f87409",
       "version_major": 2,
       "version_minor": 0
      },
      "text/plain": [
       "3CV:   0%|          | 0/3 [00:00<?, ?it/s]"
      ]
     },
     "metadata": {},
     "output_type": "display_data"
    },
    {
     "data": {
      "application/vnd.jupyter.widget-view+json": {
       "model_id": "d41d077e04bd458b8222e6c6d1d6e268",
       "version_major": 2,
       "version_minor": 0
      },
      "text/plain": [
       "5 folds:   0%|          | 0/5 [00:00<?, ?it/s]"
      ]
     },
     "metadata": {},
     "output_type": "display_data"
    },
    {
     "data": {
      "application/vnd.jupyter.widget-view+json": {
       "model_id": "cb39ce7862604e9f909c9bd7b6bd853b",
       "version_major": 2,
       "version_minor": 0
      },
      "text/plain": [
       "5 folds:   0%|          | 0/5 [00:00<?, ?it/s]"
      ]
     },
     "metadata": {},
     "output_type": "display_data"
    },
    {
     "data": {
      "application/vnd.jupyter.widget-view+json": {
       "model_id": "699ec3587b484973810563fbd6853a56",
       "version_major": 2,
       "version_minor": 0
      },
      "text/plain": [
       "5 folds:   0%|          | 0/5 [00:00<?, ?it/s]"
      ]
     },
     "metadata": {},
     "output_type": "display_data"
    },
    {
     "data": {
      "application/vnd.jupyter.widget-view+json": {
       "model_id": "c2844d1b918d4e1cb4343e4a809b7c2b",
       "version_major": 2,
       "version_minor": 0
      },
      "text/plain": [
       "3CV:   0%|          | 0/3 [00:00<?, ?it/s]"
      ]
     },
     "metadata": {},
     "output_type": "display_data"
    },
    {
     "data": {
      "application/vnd.jupyter.widget-view+json": {
       "model_id": "8355ef7da57841b9a1c63fcc9071bd8f",
       "version_major": 2,
       "version_minor": 0
      },
      "text/plain": [
       "5 folds:   0%|          | 0/5 [00:00<?, ?it/s]"
      ]
     },
     "metadata": {},
     "output_type": "display_data"
    },
    {
     "data": {
      "application/vnd.jupyter.widget-view+json": {
       "model_id": "134901d6467446b099c4860ee9eb90a2",
       "version_major": 2,
       "version_minor": 0
      },
      "text/plain": [
       "5 folds:   0%|          | 0/5 [00:00<?, ?it/s]"
      ]
     },
     "metadata": {},
     "output_type": "display_data"
    },
    {
     "data": {
      "application/vnd.jupyter.widget-view+json": {
       "model_id": "179fe439d0784864a04c63124faa1ea5",
       "version_major": 2,
       "version_minor": 0
      },
      "text/plain": [
       "5 folds:   0%|          | 0/5 [00:00<?, ?it/s]"
      ]
     },
     "metadata": {},
     "output_type": "display_data"
    },
    {
     "data": {
      "application/vnd.jupyter.widget-view+json": {
       "model_id": "afb6affb3e8d4aeb9183d0b8042a15ac",
       "version_major": 2,
       "version_minor": 0
      },
      "text/plain": [
       "3CV:   0%|          | 0/3 [00:00<?, ?it/s]"
      ]
     },
     "metadata": {},
     "output_type": "display_data"
    },
    {
     "data": {
      "application/vnd.jupyter.widget-view+json": {
       "model_id": "41883b9bfa0a4d94b12dc9ffb23aab5c",
       "version_major": 2,
       "version_minor": 0
      },
      "text/plain": [
       "5 folds:   0%|          | 0/5 [00:00<?, ?it/s]"
      ]
     },
     "metadata": {},
     "output_type": "display_data"
    },
    {
     "data": {
      "application/vnd.jupyter.widget-view+json": {
       "model_id": "521f97f115874fc5b6eb70cfd77225ea",
       "version_major": 2,
       "version_minor": 0
      },
      "text/plain": [
       "5 folds:   0%|          | 0/5 [00:00<?, ?it/s]"
      ]
     },
     "metadata": {},
     "output_type": "display_data"
    },
    {
     "data": {
      "application/vnd.jupyter.widget-view+json": {
       "model_id": "1adea9b87ea94f0aa0a826034dfd71d2",
       "version_major": 2,
       "version_minor": 0
      },
      "text/plain": [
       "5 folds:   0%|          | 0/5 [00:00<?, ?it/s]"
      ]
     },
     "metadata": {},
     "output_type": "display_data"
    },
    {
     "data": {
      "application/vnd.jupyter.widget-view+json": {
       "model_id": "064ffdb8519d4bf4919ea2f6f0b36920",
       "version_major": 2,
       "version_minor": 0
      },
      "text/plain": [
       "Model:   0%|          | 0/3 [00:00<?, ?it/s]"
      ]
     },
     "metadata": {},
     "output_type": "display_data"
    },
    {
     "data": {
      "application/vnd.jupyter.widget-view+json": {
       "model_id": "9f0a435d812e43dfb4b062c5922747ca",
       "version_major": 2,
       "version_minor": 0
      },
      "text/plain": [
       "3CV:   0%|          | 0/3 [00:00<?, ?it/s]"
      ]
     },
     "metadata": {},
     "output_type": "display_data"
    },
    {
     "data": {
      "application/vnd.jupyter.widget-view+json": {
       "model_id": "3d0734e6ef414330aae4300b1a8ba882",
       "version_major": 2,
       "version_minor": 0
      },
      "text/plain": [
       "5 folds:   0%|          | 0/5 [00:00<?, ?it/s]"
      ]
     },
     "metadata": {},
     "output_type": "display_data"
    },
    {
     "data": {
      "application/vnd.jupyter.widget-view+json": {
       "model_id": "68be102be7884014906a88638b65d047",
       "version_major": 2,
       "version_minor": 0
      },
      "text/plain": [
       "5 folds:   0%|          | 0/5 [00:00<?, ?it/s]"
      ]
     },
     "metadata": {},
     "output_type": "display_data"
    },
    {
     "data": {
      "application/vnd.jupyter.widget-view+json": {
       "model_id": "4efb6a96379e46e890426aed0e24607b",
       "version_major": 2,
       "version_minor": 0
      },
      "text/plain": [
       "5 folds:   0%|          | 0/5 [00:00<?, ?it/s]"
      ]
     },
     "metadata": {},
     "output_type": "display_data"
    },
    {
     "data": {
      "application/vnd.jupyter.widget-view+json": {
       "model_id": "e4efd4a2b2234ee6944c495db9b32c6b",
       "version_major": 2,
       "version_minor": 0
      },
      "text/plain": [
       "3CV:   0%|          | 0/3 [00:00<?, ?it/s]"
      ]
     },
     "metadata": {},
     "output_type": "display_data"
    },
    {
     "data": {
      "application/vnd.jupyter.widget-view+json": {
       "model_id": "593ec7a72def425794fd85a0633ea9ea",
       "version_major": 2,
       "version_minor": 0
      },
      "text/plain": [
       "5 folds:   0%|          | 0/5 [00:00<?, ?it/s]"
      ]
     },
     "metadata": {},
     "output_type": "display_data"
    },
    {
     "data": {
      "application/vnd.jupyter.widget-view+json": {
       "model_id": "563ec6f1727548cba312e552baaa64cc",
       "version_major": 2,
       "version_minor": 0
      },
      "text/plain": [
       "5 folds:   0%|          | 0/5 [00:00<?, ?it/s]"
      ]
     },
     "metadata": {},
     "output_type": "display_data"
    },
    {
     "data": {
      "application/vnd.jupyter.widget-view+json": {
       "model_id": "f1a8e189582e4a4cae942a7cdaf674cc",
       "version_major": 2,
       "version_minor": 0
      },
      "text/plain": [
       "5 folds:   0%|          | 0/5 [00:00<?, ?it/s]"
      ]
     },
     "metadata": {},
     "output_type": "display_data"
    },
    {
     "data": {
      "application/vnd.jupyter.widget-view+json": {
       "model_id": "38ac34ed61eb4f90984252e2e59293d7",
       "version_major": 2,
       "version_minor": 0
      },
      "text/plain": [
       "3CV:   0%|          | 0/3 [00:00<?, ?it/s]"
      ]
     },
     "metadata": {},
     "output_type": "display_data"
    },
    {
     "data": {
      "application/vnd.jupyter.widget-view+json": {
       "model_id": "b7f6dbb9c7294f22bd0efc1d8ee909e8",
       "version_major": 2,
       "version_minor": 0
      },
      "text/plain": [
       "5 folds:   0%|          | 0/5 [00:00<?, ?it/s]"
      ]
     },
     "metadata": {},
     "output_type": "display_data"
    },
    {
     "data": {
      "application/vnd.jupyter.widget-view+json": {
       "model_id": "189fd435d5cc40df8f14f8d6b2457d7c",
       "version_major": 2,
       "version_minor": 0
      },
      "text/plain": [
       "5 folds:   0%|          | 0/5 [00:00<?, ?it/s]"
      ]
     },
     "metadata": {},
     "output_type": "display_data"
    },
    {
     "data": {
      "application/vnd.jupyter.widget-view+json": {
       "model_id": "28bf5c2855494d93939e2730eb42cf2d",
       "version_major": 2,
       "version_minor": 0
      },
      "text/plain": [
       "5 folds:   0%|          | 0/5 [00:00<?, ?it/s]"
      ]
     },
     "metadata": {},
     "output_type": "display_data"
    },
    {
     "data": {
      "application/vnd.jupyter.widget-view+json": {
       "model_id": "576454a189bf47458af9f91300e7841e",
       "version_major": 2,
       "version_minor": 0
      },
      "text/plain": [
       "Model:   0%|          | 0/3 [00:00<?, ?it/s]"
      ]
     },
     "metadata": {},
     "output_type": "display_data"
    },
    {
     "data": {
      "application/vnd.jupyter.widget-view+json": {
       "model_id": "ab9ba771b5ce430eb5a8eb937b707f01",
       "version_major": 2,
       "version_minor": 0
      },
      "text/plain": [
       "3CV:   0%|          | 0/3 [00:00<?, ?it/s]"
      ]
     },
     "metadata": {},
     "output_type": "display_data"
    },
    {
     "data": {
      "application/vnd.jupyter.widget-view+json": {
       "model_id": "f1585107c4514447817c910ce3dd9361",
       "version_major": 2,
       "version_minor": 0
      },
      "text/plain": [
       "5 folds:   0%|          | 0/5 [00:00<?, ?it/s]"
      ]
     },
     "metadata": {},
     "output_type": "display_data"
    },
    {
     "data": {
      "application/vnd.jupyter.widget-view+json": {
       "model_id": "530b27e3b77c435eb6761c35c4306358",
       "version_major": 2,
       "version_minor": 0
      },
      "text/plain": [
       "5 folds:   0%|          | 0/5 [00:00<?, ?it/s]"
      ]
     },
     "metadata": {},
     "output_type": "display_data"
    },
    {
     "data": {
      "application/vnd.jupyter.widget-view+json": {
       "model_id": "d42e01165019475eb46d94674292b215",
       "version_major": 2,
       "version_minor": 0
      },
      "text/plain": [
       "5 folds:   0%|          | 0/5 [00:00<?, ?it/s]"
      ]
     },
     "metadata": {},
     "output_type": "display_data"
    },
    {
     "data": {
      "application/vnd.jupyter.widget-view+json": {
       "model_id": "99f8c00764e34deb86154f82849d6336",
       "version_major": 2,
       "version_minor": 0
      },
      "text/plain": [
       "3CV:   0%|          | 0/3 [00:00<?, ?it/s]"
      ]
     },
     "metadata": {},
     "output_type": "display_data"
    },
    {
     "data": {
      "application/vnd.jupyter.widget-view+json": {
       "model_id": "fc8107de86fc45bdac8cb80a877eecc0",
       "version_major": 2,
       "version_minor": 0
      },
      "text/plain": [
       "5 folds:   0%|          | 0/5 [00:00<?, ?it/s]"
      ]
     },
     "metadata": {},
     "output_type": "display_data"
    },
    {
     "data": {
      "application/vnd.jupyter.widget-view+json": {
       "model_id": "81b6dabafc9a454a84b77d2295351196",
       "version_major": 2,
       "version_minor": 0
      },
      "text/plain": [
       "5 folds:   0%|          | 0/5 [00:00<?, ?it/s]"
      ]
     },
     "metadata": {},
     "output_type": "display_data"
    },
    {
     "data": {
      "application/vnd.jupyter.widget-view+json": {
       "model_id": "a0ffd1849cd44058b417a7e8154a87e2",
       "version_major": 2,
       "version_minor": 0
      },
      "text/plain": [
       "5 folds:   0%|          | 0/5 [00:00<?, ?it/s]"
      ]
     },
     "metadata": {},
     "output_type": "display_data"
    },
    {
     "data": {
      "application/vnd.jupyter.widget-view+json": {
       "model_id": "35835a6e4b204687bf34bf20f40289ea",
       "version_major": 2,
       "version_minor": 0
      },
      "text/plain": [
       "3CV:   0%|          | 0/3 [00:00<?, ?it/s]"
      ]
     },
     "metadata": {},
     "output_type": "display_data"
    },
    {
     "data": {
      "application/vnd.jupyter.widget-view+json": {
       "model_id": "83bdb9aface44b6785c7eb855076e8da",
       "version_major": 2,
       "version_minor": 0
      },
      "text/plain": [
       "5 folds:   0%|          | 0/5 [00:00<?, ?it/s]"
      ]
     },
     "metadata": {},
     "output_type": "display_data"
    },
    {
     "data": {
      "application/vnd.jupyter.widget-view+json": {
       "model_id": "b7944c65df3b4647964af99b2d552ebb",
       "version_major": 2,
       "version_minor": 0
      },
      "text/plain": [
       "5 folds:   0%|          | 0/5 [00:00<?, ?it/s]"
      ]
     },
     "metadata": {},
     "output_type": "display_data"
    },
    {
     "data": {
      "application/vnd.jupyter.widget-view+json": {
       "model_id": "43892eee9570459d9bce900aa3441316",
       "version_major": 2,
       "version_minor": 0
      },
      "text/plain": [
       "5 folds:   0%|          | 0/5 [00:00<?, ?it/s]"
      ]
     },
     "metadata": {},
     "output_type": "display_data"
    },
    {
     "data": {
      "application/vnd.jupyter.widget-view+json": {
       "model_id": "de1376dc74f140dc89fb9f8e5626fc57",
       "version_major": 2,
       "version_minor": 0
      },
      "text/plain": [
       "Model:   0%|          | 0/3 [00:00<?, ?it/s]"
      ]
     },
     "metadata": {},
     "output_type": "display_data"
    },
    {
     "data": {
      "application/vnd.jupyter.widget-view+json": {
       "model_id": "caffe115f78c46068d0802b68c88087e",
       "version_major": 2,
       "version_minor": 0
      },
      "text/plain": [
       "3CV:   0%|          | 0/3 [00:00<?, ?it/s]"
      ]
     },
     "metadata": {},
     "output_type": "display_data"
    },
    {
     "data": {
      "application/vnd.jupyter.widget-view+json": {
       "model_id": "16ae4c1c134a4236b5ad3a8bc60b59a2",
       "version_major": 2,
       "version_minor": 0
      },
      "text/plain": [
       "5 folds:   0%|          | 0/5 [00:00<?, ?it/s]"
      ]
     },
     "metadata": {},
     "output_type": "display_data"
    },
    {
     "data": {
      "application/vnd.jupyter.widget-view+json": {
       "model_id": "11090143219947629053f3bca16b5bf8",
       "version_major": 2,
       "version_minor": 0
      },
      "text/plain": [
       "5 folds:   0%|          | 0/5 [00:00<?, ?it/s]"
      ]
     },
     "metadata": {},
     "output_type": "display_data"
    },
    {
     "data": {
      "application/vnd.jupyter.widget-view+json": {
       "model_id": "0a50d255e336430db433b8a42c8beccc",
       "version_major": 2,
       "version_minor": 0
      },
      "text/plain": [
       "5 folds:   0%|          | 0/5 [00:00<?, ?it/s]"
      ]
     },
     "metadata": {},
     "output_type": "display_data"
    },
    {
     "data": {
      "application/vnd.jupyter.widget-view+json": {
       "model_id": "33378590b25e4e76807aeed5fe48986a",
       "version_major": 2,
       "version_minor": 0
      },
      "text/plain": [
       "3CV:   0%|          | 0/3 [00:00<?, ?it/s]"
      ]
     },
     "metadata": {},
     "output_type": "display_data"
    },
    {
     "data": {
      "application/vnd.jupyter.widget-view+json": {
       "model_id": "ef9dc26322ae49a1810fffb8a2753fca",
       "version_major": 2,
       "version_minor": 0
      },
      "text/plain": [
       "5 folds:   0%|          | 0/5 [00:00<?, ?it/s]"
      ]
     },
     "metadata": {},
     "output_type": "display_data"
    },
    {
     "data": {
      "application/vnd.jupyter.widget-view+json": {
       "model_id": "ded89f4349094769b0f2bd6e797e3a18",
       "version_major": 2,
       "version_minor": 0
      },
      "text/plain": [
       "5 folds:   0%|          | 0/5 [00:00<?, ?it/s]"
      ]
     },
     "metadata": {},
     "output_type": "display_data"
    },
    {
     "data": {
      "application/vnd.jupyter.widget-view+json": {
       "model_id": "85c7632a0aa34478a71e2647fc85e1c1",
       "version_major": 2,
       "version_minor": 0
      },
      "text/plain": [
       "5 folds:   0%|          | 0/5 [00:00<?, ?it/s]"
      ]
     },
     "metadata": {},
     "output_type": "display_data"
    },
    {
     "data": {
      "application/vnd.jupyter.widget-view+json": {
       "model_id": "cd07086aad0b4083961c3a381262b9c0",
       "version_major": 2,
       "version_minor": 0
      },
      "text/plain": [
       "3CV:   0%|          | 0/3 [00:00<?, ?it/s]"
      ]
     },
     "metadata": {},
     "output_type": "display_data"
    },
    {
     "data": {
      "application/vnd.jupyter.widget-view+json": {
       "model_id": "6e605289e4a34f13ba79813c5a28641b",
       "version_major": 2,
       "version_minor": 0
      },
      "text/plain": [
       "5 folds:   0%|          | 0/5 [00:00<?, ?it/s]"
      ]
     },
     "metadata": {},
     "output_type": "display_data"
    },
    {
     "data": {
      "application/vnd.jupyter.widget-view+json": {
       "model_id": "2570fddf6fb8488781468fc9f88ee0ed",
       "version_major": 2,
       "version_minor": 0
      },
      "text/plain": [
       "5 folds:   0%|          | 0/5 [00:00<?, ?it/s]"
      ]
     },
     "metadata": {},
     "output_type": "display_data"
    },
    {
     "data": {
      "application/vnd.jupyter.widget-view+json": {
       "model_id": "80e8816be6584d8cab07aa09eef97059",
       "version_major": 2,
       "version_minor": 0
      },
      "text/plain": [
       "5 folds:   0%|          | 0/5 [00:00<?, ?it/s]"
      ]
     },
     "metadata": {},
     "output_type": "display_data"
    },
    {
     "data": {
      "application/vnd.jupyter.widget-view+json": {
       "model_id": "43b1332da5a34930b2afb2bcac36c2b3",
       "version_major": 2,
       "version_minor": 0
      },
      "text/plain": [
       "Model:   0%|          | 0/3 [00:00<?, ?it/s]"
      ]
     },
     "metadata": {},
     "output_type": "display_data"
    },
    {
     "data": {
      "application/vnd.jupyter.widget-view+json": {
       "model_id": "16405cb907594ac2934a29e547ca3349",
       "version_major": 2,
       "version_minor": 0
      },
      "text/plain": [
       "3CV:   0%|          | 0/3 [00:00<?, ?it/s]"
      ]
     },
     "metadata": {},
     "output_type": "display_data"
    },
    {
     "data": {
      "application/vnd.jupyter.widget-view+json": {
       "model_id": "62e9378eb26a4a1590e912a35d764fb7",
       "version_major": 2,
       "version_minor": 0
      },
      "text/plain": [
       "5 folds:   0%|          | 0/5 [00:00<?, ?it/s]"
      ]
     },
     "metadata": {},
     "output_type": "display_data"
    },
    {
     "data": {
      "application/vnd.jupyter.widget-view+json": {
       "model_id": "4c4fa7faea524bce804b0c848f348ca3",
       "version_major": 2,
       "version_minor": 0
      },
      "text/plain": [
       "5 folds:   0%|          | 0/5 [00:00<?, ?it/s]"
      ]
     },
     "metadata": {},
     "output_type": "display_data"
    },
    {
     "data": {
      "application/vnd.jupyter.widget-view+json": {
       "model_id": "09131fc11efa41f69126fbf23edad1b6",
       "version_major": 2,
       "version_minor": 0
      },
      "text/plain": [
       "5 folds:   0%|          | 0/5 [00:00<?, ?it/s]"
      ]
     },
     "metadata": {},
     "output_type": "display_data"
    },
    {
     "data": {
      "application/vnd.jupyter.widget-view+json": {
       "model_id": "88e37090377443708c5dbd1b4185493f",
       "version_major": 2,
       "version_minor": 0
      },
      "text/plain": [
       "3CV:   0%|          | 0/3 [00:00<?, ?it/s]"
      ]
     },
     "metadata": {},
     "output_type": "display_data"
    },
    {
     "data": {
      "application/vnd.jupyter.widget-view+json": {
       "model_id": "f264d3ccefbf490fb0aaf6b6d259c15b",
       "version_major": 2,
       "version_minor": 0
      },
      "text/plain": [
       "5 folds:   0%|          | 0/5 [00:00<?, ?it/s]"
      ]
     },
     "metadata": {},
     "output_type": "display_data"
    },
    {
     "data": {
      "application/vnd.jupyter.widget-view+json": {
       "model_id": "9a3576add5204d7784c3bd36579d67db",
       "version_major": 2,
       "version_minor": 0
      },
      "text/plain": [
       "5 folds:   0%|          | 0/5 [00:00<?, ?it/s]"
      ]
     },
     "metadata": {},
     "output_type": "display_data"
    },
    {
     "data": {
      "application/vnd.jupyter.widget-view+json": {
       "model_id": "30c58fe2ab0644eb965088844528c490",
       "version_major": 2,
       "version_minor": 0
      },
      "text/plain": [
       "5 folds:   0%|          | 0/5 [00:00<?, ?it/s]"
      ]
     },
     "metadata": {},
     "output_type": "display_data"
    },
    {
     "data": {
      "application/vnd.jupyter.widget-view+json": {
       "model_id": "70e99c89b90e4b73abea536bb8568442",
       "version_major": 2,
       "version_minor": 0
      },
      "text/plain": [
       "3CV:   0%|          | 0/3 [00:00<?, ?it/s]"
      ]
     },
     "metadata": {},
     "output_type": "display_data"
    },
    {
     "data": {
      "application/vnd.jupyter.widget-view+json": {
       "model_id": "55d07f37e84542a4bf942d612617043e",
       "version_major": 2,
       "version_minor": 0
      },
      "text/plain": [
       "5 folds:   0%|          | 0/5 [00:00<?, ?it/s]"
      ]
     },
     "metadata": {},
     "output_type": "display_data"
    },
    {
     "data": {
      "application/vnd.jupyter.widget-view+json": {
       "model_id": "a55ff686fc7d4af88084fd546fc3446a",
       "version_major": 2,
       "version_minor": 0
      },
      "text/plain": [
       "5 folds:   0%|          | 0/5 [00:00<?, ?it/s]"
      ]
     },
     "metadata": {},
     "output_type": "display_data"
    },
    {
     "data": {
      "application/vnd.jupyter.widget-view+json": {
       "model_id": "14dcc4d0e39c4baeb9ea53a5e3555c8b",
       "version_major": 2,
       "version_minor": 0
      },
      "text/plain": [
       "5 folds:   0%|          | 0/5 [00:00<?, ?it/s]"
      ]
     },
     "metadata": {},
     "output_type": "display_data"
    },
    {
     "data": {
      "application/vnd.jupyter.widget-view+json": {
       "model_id": "b366891b0e2043ae950bf627353d5d41",
       "version_major": 2,
       "version_minor": 0
      },
      "text/plain": [
       "Model:   0%|          | 0/3 [00:00<?, ?it/s]"
      ]
     },
     "metadata": {},
     "output_type": "display_data"
    },
    {
     "data": {
      "application/vnd.jupyter.widget-view+json": {
       "model_id": "29cfc9d003c24363b735fa8939e136b7",
       "version_major": 2,
       "version_minor": 0
      },
      "text/plain": [
       "3CV:   0%|          | 0/3 [00:00<?, ?it/s]"
      ]
     },
     "metadata": {},
     "output_type": "display_data"
    },
    {
     "data": {
      "application/vnd.jupyter.widget-view+json": {
       "model_id": "c07aab1e09d147e496e123c4ae19f525",
       "version_major": 2,
       "version_minor": 0
      },
      "text/plain": [
       "5 folds:   0%|          | 0/5 [00:00<?, ?it/s]"
      ]
     },
     "metadata": {},
     "output_type": "display_data"
    },
    {
     "data": {
      "application/vnd.jupyter.widget-view+json": {
       "model_id": "d42440ed633749f4b0daeaf56494cd70",
       "version_major": 2,
       "version_minor": 0
      },
      "text/plain": [
       "5 folds:   0%|          | 0/5 [00:00<?, ?it/s]"
      ]
     },
     "metadata": {},
     "output_type": "display_data"
    },
    {
     "data": {
      "application/vnd.jupyter.widget-view+json": {
       "model_id": "0862108b1d244947bc53762f078a6a8b",
       "version_major": 2,
       "version_minor": 0
      },
      "text/plain": [
       "5 folds:   0%|          | 0/5 [00:00<?, ?it/s]"
      ]
     },
     "metadata": {},
     "output_type": "display_data"
    },
    {
     "data": {
      "application/vnd.jupyter.widget-view+json": {
       "model_id": "605259b3f9094a0cba66f0c0436ba68b",
       "version_major": 2,
       "version_minor": 0
      },
      "text/plain": [
       "3CV:   0%|          | 0/3 [00:00<?, ?it/s]"
      ]
     },
     "metadata": {},
     "output_type": "display_data"
    },
    {
     "data": {
      "application/vnd.jupyter.widget-view+json": {
       "model_id": "e6f6ef087a2f4975922c3d6313979ac7",
       "version_major": 2,
       "version_minor": 0
      },
      "text/plain": [
       "5 folds:   0%|          | 0/5 [00:00<?, ?it/s]"
      ]
     },
     "metadata": {},
     "output_type": "display_data"
    },
    {
     "data": {
      "application/vnd.jupyter.widget-view+json": {
       "model_id": "58374a8685a547b7bdcdd57035cd2413",
       "version_major": 2,
       "version_minor": 0
      },
      "text/plain": [
       "5 folds:   0%|          | 0/5 [00:00<?, ?it/s]"
      ]
     },
     "metadata": {},
     "output_type": "display_data"
    },
    {
     "data": {
      "application/vnd.jupyter.widget-view+json": {
       "model_id": "88e4564cfa8e45219c794f85236588da",
       "version_major": 2,
       "version_minor": 0
      },
      "text/plain": [
       "5 folds:   0%|          | 0/5 [00:00<?, ?it/s]"
      ]
     },
     "metadata": {},
     "output_type": "display_data"
    },
    {
     "data": {
      "application/vnd.jupyter.widget-view+json": {
       "model_id": "867779c1ad5d419ebacfa069c58cb5ad",
       "version_major": 2,
       "version_minor": 0
      },
      "text/plain": [
       "3CV:   0%|          | 0/3 [00:00<?, ?it/s]"
      ]
     },
     "metadata": {},
     "output_type": "display_data"
    },
    {
     "data": {
      "application/vnd.jupyter.widget-view+json": {
       "model_id": "ef4689ea9deb40268f51c848fef5c98c",
       "version_major": 2,
       "version_minor": 0
      },
      "text/plain": [
       "5 folds:   0%|          | 0/5 [00:00<?, ?it/s]"
      ]
     },
     "metadata": {},
     "output_type": "display_data"
    },
    {
     "data": {
      "application/vnd.jupyter.widget-view+json": {
       "model_id": "54cf684ccecd474eb5fd36ed2e6b2915",
       "version_major": 2,
       "version_minor": 0
      },
      "text/plain": [
       "5 folds:   0%|          | 0/5 [00:00<?, ?it/s]"
      ]
     },
     "metadata": {},
     "output_type": "display_data"
    },
    {
     "data": {
      "application/vnd.jupyter.widget-view+json": {
       "model_id": "af58912e6381444cb455536caf0c02e9",
       "version_major": 2,
       "version_minor": 0
      },
      "text/plain": [
       "5 folds:   0%|          | 0/5 [00:00<?, ?it/s]"
      ]
     },
     "metadata": {},
     "output_type": "display_data"
    },
    {
     "data": {
      "application/vnd.jupyter.widget-view+json": {
       "model_id": "5eab3a2c061c4cb187980c9d90c89dad",
       "version_major": 2,
       "version_minor": 0
      },
      "text/plain": [
       "Model:   0%|          | 0/3 [00:00<?, ?it/s]"
      ]
     },
     "metadata": {},
     "output_type": "display_data"
    },
    {
     "data": {
      "application/vnd.jupyter.widget-view+json": {
       "model_id": "45498ba257794d1a928ff692dcf0eaa2",
       "version_major": 2,
       "version_minor": 0
      },
      "text/plain": [
       "3CV:   0%|          | 0/3 [00:00<?, ?it/s]"
      ]
     },
     "metadata": {},
     "output_type": "display_data"
    },
    {
     "data": {
      "application/vnd.jupyter.widget-view+json": {
       "model_id": "fc3a1cc337ba45a290faddc682ac11fb",
       "version_major": 2,
       "version_minor": 0
      },
      "text/plain": [
       "5 folds:   0%|          | 0/5 [00:00<?, ?it/s]"
      ]
     },
     "metadata": {},
     "output_type": "display_data"
    },
    {
     "data": {
      "application/vnd.jupyter.widget-view+json": {
       "model_id": "6a908786b38844e8a659bcd16e2ef42f",
       "version_major": 2,
       "version_minor": 0
      },
      "text/plain": [
       "5 folds:   0%|          | 0/5 [00:00<?, ?it/s]"
      ]
     },
     "metadata": {},
     "output_type": "display_data"
    },
    {
     "data": {
      "application/vnd.jupyter.widget-view+json": {
       "model_id": "9bb0c7cba7db4142bf2e555c23a2ab23",
       "version_major": 2,
       "version_minor": 0
      },
      "text/plain": [
       "5 folds:   0%|          | 0/5 [00:00<?, ?it/s]"
      ]
     },
     "metadata": {},
     "output_type": "display_data"
    },
    {
     "data": {
      "application/vnd.jupyter.widget-view+json": {
       "model_id": "10915f4ef9064b23800e2d4f20355fcc",
       "version_major": 2,
       "version_minor": 0
      },
      "text/plain": [
       "3CV:   0%|          | 0/3 [00:00<?, ?it/s]"
      ]
     },
     "metadata": {},
     "output_type": "display_data"
    },
    {
     "data": {
      "application/vnd.jupyter.widget-view+json": {
       "model_id": "f36b4911a8324602afc42e02a77d8c09",
       "version_major": 2,
       "version_minor": 0
      },
      "text/plain": [
       "5 folds:   0%|          | 0/5 [00:00<?, ?it/s]"
      ]
     },
     "metadata": {},
     "output_type": "display_data"
    },
    {
     "data": {
      "application/vnd.jupyter.widget-view+json": {
       "model_id": "8b5bcff8adc64a83af74c435b6246549",
       "version_major": 2,
       "version_minor": 0
      },
      "text/plain": [
       "5 folds:   0%|          | 0/5 [00:00<?, ?it/s]"
      ]
     },
     "metadata": {},
     "output_type": "display_data"
    },
    {
     "data": {
      "application/vnd.jupyter.widget-view+json": {
       "model_id": "29d64f62059e47eca88c5a11419bfb33",
       "version_major": 2,
       "version_minor": 0
      },
      "text/plain": [
       "5 folds:   0%|          | 0/5 [00:00<?, ?it/s]"
      ]
     },
     "metadata": {},
     "output_type": "display_data"
    },
    {
     "data": {
      "application/vnd.jupyter.widget-view+json": {
       "model_id": "3252d617b8e04c7787019eac619caecc",
       "version_major": 2,
       "version_minor": 0
      },
      "text/plain": [
       "3CV:   0%|          | 0/3 [00:00<?, ?it/s]"
      ]
     },
     "metadata": {},
     "output_type": "display_data"
    },
    {
     "data": {
      "application/vnd.jupyter.widget-view+json": {
       "model_id": "51c3754418db48aca21a1e7e069c34e9",
       "version_major": 2,
       "version_minor": 0
      },
      "text/plain": [
       "5 folds:   0%|          | 0/5 [00:00<?, ?it/s]"
      ]
     },
     "metadata": {},
     "output_type": "display_data"
    },
    {
     "data": {
      "application/vnd.jupyter.widget-view+json": {
       "model_id": "752778ccb6314984b892f130209330c5",
       "version_major": 2,
       "version_minor": 0
      },
      "text/plain": [
       "5 folds:   0%|          | 0/5 [00:00<?, ?it/s]"
      ]
     },
     "metadata": {},
     "output_type": "display_data"
    },
    {
     "data": {
      "application/vnd.jupyter.widget-view+json": {
       "model_id": "361d9e2ba5874c62970afb68414e560e",
       "version_major": 2,
       "version_minor": 0
      },
      "text/plain": [
       "5 folds:   0%|          | 0/5 [00:00<?, ?it/s]"
      ]
     },
     "metadata": {},
     "output_type": "display_data"
    },
    {
     "data": {
      "application/vnd.jupyter.widget-view+json": {
       "model_id": "5a98786fe3f04b69a742edc9d7060471",
       "version_major": 2,
       "version_minor": 0
      },
      "text/plain": [
       "Model:   0%|          | 0/3 [00:00<?, ?it/s]"
      ]
     },
     "metadata": {},
     "output_type": "display_data"
    },
    {
     "data": {
      "application/vnd.jupyter.widget-view+json": {
       "model_id": "dea01c8608ac447d8c6a85b926a5884b",
       "version_major": 2,
       "version_minor": 0
      },
      "text/plain": [
       "3CV:   0%|          | 0/3 [00:00<?, ?it/s]"
      ]
     },
     "metadata": {},
     "output_type": "display_data"
    },
    {
     "data": {
      "application/vnd.jupyter.widget-view+json": {
       "model_id": "0933e81062a3401a9595933323dfddca",
       "version_major": 2,
       "version_minor": 0
      },
      "text/plain": [
       "5 folds:   0%|          | 0/5 [00:00<?, ?it/s]"
      ]
     },
     "metadata": {},
     "output_type": "display_data"
    },
    {
     "data": {
      "application/vnd.jupyter.widget-view+json": {
       "model_id": "f1db93411c024855b02bcb00847aa2cb",
       "version_major": 2,
       "version_minor": 0
      },
      "text/plain": [
       "5 folds:   0%|          | 0/5 [00:00<?, ?it/s]"
      ]
     },
     "metadata": {},
     "output_type": "display_data"
    },
    {
     "data": {
      "application/vnd.jupyter.widget-view+json": {
       "model_id": "5f2e468e6d6049919756b4876833b306",
       "version_major": 2,
       "version_minor": 0
      },
      "text/plain": [
       "5 folds:   0%|          | 0/5 [00:00<?, ?it/s]"
      ]
     },
     "metadata": {},
     "output_type": "display_data"
    },
    {
     "data": {
      "application/vnd.jupyter.widget-view+json": {
       "model_id": "5f80b692ff8e4f3db8f77f480ec3f9ba",
       "version_major": 2,
       "version_minor": 0
      },
      "text/plain": [
       "3CV:   0%|          | 0/3 [00:00<?, ?it/s]"
      ]
     },
     "metadata": {},
     "output_type": "display_data"
    },
    {
     "data": {
      "application/vnd.jupyter.widget-view+json": {
       "model_id": "b8a6ebfc1682423aad8c415e1abfcc98",
       "version_major": 2,
       "version_minor": 0
      },
      "text/plain": [
       "5 folds:   0%|          | 0/5 [00:00<?, ?it/s]"
      ]
     },
     "metadata": {},
     "output_type": "display_data"
    },
    {
     "data": {
      "application/vnd.jupyter.widget-view+json": {
       "model_id": "bad9c86ad98443a6b2d98ddeaa5bfa08",
       "version_major": 2,
       "version_minor": 0
      },
      "text/plain": [
       "5 folds:   0%|          | 0/5 [00:00<?, ?it/s]"
      ]
     },
     "metadata": {},
     "output_type": "display_data"
    },
    {
     "data": {
      "application/vnd.jupyter.widget-view+json": {
       "model_id": "6199508d05f84d6ba455c1fa001271ea",
       "version_major": 2,
       "version_minor": 0
      },
      "text/plain": [
       "5 folds:   0%|          | 0/5 [00:00<?, ?it/s]"
      ]
     },
     "metadata": {},
     "output_type": "display_data"
    },
    {
     "data": {
      "application/vnd.jupyter.widget-view+json": {
       "model_id": "9b0e573b320c42d7940447af4c53d18a",
       "version_major": 2,
       "version_minor": 0
      },
      "text/plain": [
       "3CV:   0%|          | 0/3 [00:00<?, ?it/s]"
      ]
     },
     "metadata": {},
     "output_type": "display_data"
    },
    {
     "data": {
      "application/vnd.jupyter.widget-view+json": {
       "model_id": "ad4bd9f380d245b99bf6cf3b6f863cfa",
       "version_major": 2,
       "version_minor": 0
      },
      "text/plain": [
       "5 folds:   0%|          | 0/5 [00:00<?, ?it/s]"
      ]
     },
     "metadata": {},
     "output_type": "display_data"
    },
    {
     "data": {
      "application/vnd.jupyter.widget-view+json": {
       "model_id": "c577d02e1d0940cca18f455e9e5c626c",
       "version_major": 2,
       "version_minor": 0
      },
      "text/plain": [
       "5 folds:   0%|          | 0/5 [00:00<?, ?it/s]"
      ]
     },
     "metadata": {},
     "output_type": "display_data"
    },
    {
     "data": {
      "application/vnd.jupyter.widget-view+json": {
       "model_id": "a4ffbe82c21c45f389b862580a9432b4",
       "version_major": 2,
       "version_minor": 0
      },
      "text/plain": [
       "5 folds:   0%|          | 0/5 [00:00<?, ?it/s]"
      ]
     },
     "metadata": {},
     "output_type": "display_data"
    }
   ],
   "source": [
    "# data_name = 'Mpg'\n",
    "num_cv = 3\n",
    "num_folds = 5\n",
    "visualize = False\n",
    "\n",
    "df_resume = pd.DataFrame()\n",
    "tqdm.write(f'num_cv: {num_cv}, num_folds: {num_folds}, visualize: {visualize}, num_tree: {num_tree}')\n",
    "with tqdm(total=len(RUNNING_DATA_NAMES_EXCEPT_CALIFORNIA), desc=\"Data\", leave=False) as pbar:\n",
    "    for data_name in RUNNING_DATA_NAMES_EXCEPT_CALIFORNIA:\n",
    "        x_continuous,x_categorical,y = load_data(data_name,DIR_DATA)\n",
    "        txt = f'{data_name}: {x_continuous.shape[0]} samples, {x_continuous.shape[1]+x_categorical.shape[1]} features'\n",
    "        pbar.set_postfix_str(txt)\n",
    "        res_dict = experiment(\n",
    "            data_name,\n",
    "            num_tree,\n",
    "            visualize,\n",
    "            num_cv,\n",
    "            num_folds,\n",
    "        )\n",
    "        # df_resume_data = resume_res_dict(\n",
    "        #     data_name,\n",
    "        # )\n",
    "        # df_resume = pd.concat([df_resume, df_resume_data], axis=0)\n",
    "        pbar.update(1)"
   ]
  },
  {
   "cell_type": "code",
   "execution_count": 35,
   "metadata": {},
   "outputs": [
    {
     "data": {
      "text/html": [
       "<div>\n",
       "<style scoped>\n",
       "    .dataframe tbody tr th:only-of-type {\n",
       "        vertical-align: middle;\n",
       "    }\n",
       "\n",
       "    .dataframe tbody tr th {\n",
       "        vertical-align: top;\n",
       "    }\n",
       "\n",
       "    .dataframe thead th {\n",
       "        text-align: right;\n",
       "    }\n",
       "</style>\n",
       "<table border=\"1\" class=\"dataframe\">\n",
       "  <thead>\n",
       "    <tr style=\"text-align: right;\">\n",
       "      <th></th>\n",
       "    </tr>\n",
       "  </thead>\n",
       "  <tbody>\n",
       "  </tbody>\n",
       "</table>\n",
       "</div>"
      ],
      "text/plain": [
       "Empty DataFrame\n",
       "Columns: []\n",
       "Index: []"
      ]
     },
     "execution_count": 35,
     "metadata": {},
     "output_type": "execute_result"
    }
   ],
   "source": [
    "df_resume"
   ]
  },
  {
   "cell_type": "markdown",
   "metadata": {},
   "source": [
    "マニュアル実装の方が性能良い"
   ]
  },
  {
   "cell_type": "code",
   "execution_count": 36,
   "metadata": {},
   "outputs": [
    {
     "ename": "AssertionError",
     "evalue": "",
     "output_type": "error",
     "traceback": [
      "\u001b[0;31m---------------------------------------------------------------------------\u001b[0m",
      "\u001b[0;31mAssertionError\u001b[0m                            Traceback (most recent call last)",
      "Cell \u001b[0;32mIn[36], line 1\u001b[0m\n\u001b[0;32m----> 1\u001b[0m \u001b[38;5;28;01massert\u001b[39;00m \u001b[38;5;28;01mFalse\u001b[39;00m\n",
      "\u001b[0;31mAssertionError\u001b[0m: "
     ]
    }
   ],
   "source": [
    "assert False"
   ]
  },
  {
   "cell_type": "code",
   "execution_count": null,
   "metadata": {},
   "outputs": [
    {
     "data": {
      "text/html": [
       "<div>\n",
       "<style scoped>\n",
       "    .dataframe tbody tr th:only-of-type {\n",
       "        vertical-align: middle;\n",
       "    }\n",
       "\n",
       "    .dataframe tbody tr th {\n",
       "        vertical-align: top;\n",
       "    }\n",
       "\n",
       "    .dataframe thead th {\n",
       "        text-align: right;\n",
       "    }\n",
       "</style>\n",
       "<table border=\"1\" class=\"dataframe\">\n",
       "  <thead>\n",
       "    <tr style=\"text-align: right;\">\n",
       "      <th></th>\n",
       "      <th>MT_mean</th>\n",
       "      <th>MT_std</th>\n",
       "      <th>all_DT_mean</th>\n",
       "      <th>all_DT_std</th>\n",
       "      <th>last_DT_mean</th>\n",
       "      <th>last_DT_std</th>\n",
       "    </tr>\n",
       "  </thead>\n",
       "  <tbody>\n",
       "    <tr>\n",
       "      <th>Mpg_residuals_test_tree1</th>\n",
       "      <td>0.208225</td>\n",
       "      <td>0.015197</td>\n",
       "      <td>0.208435</td>\n",
       "      <td>0.015190</td>\n",
       "      <td>0.208435</td>\n",
       "      <td>0.015190</td>\n",
       "    </tr>\n",
       "    <tr>\n",
       "      <th>Mpg_residuals_test_tree2</th>\n",
       "      <td>0.194858</td>\n",
       "      <td>0.014325</td>\n",
       "      <td>0.198610</td>\n",
       "      <td>0.014324</td>\n",
       "      <td>0.199327</td>\n",
       "      <td>0.014285</td>\n",
       "    </tr>\n",
       "    <tr>\n",
       "      <th>Mpg_residuals_test_tree3</th>\n",
       "      <td>0.193296</td>\n",
       "      <td>0.014292</td>\n",
       "      <td>0.201495</td>\n",
       "      <td>0.014937</td>\n",
       "      <td>0.192559</td>\n",
       "      <td>0.013657</td>\n",
       "    </tr>\n",
       "    <tr>\n",
       "      <th>Mpg_residuals_train_tree1</th>\n",
       "      <td>0.016994</td>\n",
       "      <td>0.000953</td>\n",
       "      <td>0.016953</td>\n",
       "      <td>0.000955</td>\n",
       "      <td>0.016953</td>\n",
       "      <td>0.000955</td>\n",
       "    </tr>\n",
       "    <tr>\n",
       "      <th>Mpg_residuals_train_tree2</th>\n",
       "      <td>0.006785</td>\n",
       "      <td>0.000303</td>\n",
       "      <td>0.004047</td>\n",
       "      <td>0.000407</td>\n",
       "      <td>0.004039</td>\n",
       "      <td>0.000443</td>\n",
       "    </tr>\n",
       "    <tr>\n",
       "      <th>...</th>\n",
       "      <td>...</td>\n",
       "      <td>...</td>\n",
       "      <td>...</td>\n",
       "      <td>...</td>\n",
       "      <td>...</td>\n",
       "      <td>...</td>\n",
       "    </tr>\n",
       "    <tr>\n",
       "      <th>wine_quality_test_2tree</th>\n",
       "      <td>0.721131</td>\n",
       "      <td>0.011164</td>\n",
       "      <td>0.721111</td>\n",
       "      <td>0.011170</td>\n",
       "      <td>0.721111</td>\n",
       "      <td>0.011170</td>\n",
       "    </tr>\n",
       "    <tr>\n",
       "      <th>wine_quality_test_3tree</th>\n",
       "      <td>0.726673</td>\n",
       "      <td>0.010107</td>\n",
       "      <td>0.726491</td>\n",
       "      <td>0.010166</td>\n",
       "      <td>0.726652</td>\n",
       "      <td>0.010110</td>\n",
       "    </tr>\n",
       "    <tr>\n",
       "      <th>wine_quality_train_1tree</th>\n",
       "      <td>0.469695</td>\n",
       "      <td>0.003258</td>\n",
       "      <td>0.469695</td>\n",
       "      <td>0.003258</td>\n",
       "      <td>0.469695</td>\n",
       "      <td>0.003258</td>\n",
       "    </tr>\n",
       "    <tr>\n",
       "      <th>wine_quality_train_2tree</th>\n",
       "      <td>0.362634</td>\n",
       "      <td>0.004074</td>\n",
       "      <td>0.362632</td>\n",
       "      <td>0.004074</td>\n",
       "      <td>0.362632</td>\n",
       "      <td>0.004074</td>\n",
       "    </tr>\n",
       "    <tr>\n",
       "      <th>wine_quality_train_3tree</th>\n",
       "      <td>0.305207</td>\n",
       "      <td>0.004631</td>\n",
       "      <td>0.305218</td>\n",
       "      <td>0.004628</td>\n",
       "      <td>0.305198</td>\n",
       "      <td>0.004631</td>\n",
       "    </tr>\n",
       "  </tbody>\n",
       "</table>\n",
       "<p>240 rows × 6 columns</p>\n",
       "</div>"
      ],
      "text/plain": [
       "                            MT_mean    MT_std  all_DT_mean  all_DT_std  \\\n",
       "Mpg_residuals_test_tree1   0.208225  0.015197     0.208435    0.015190   \n",
       "Mpg_residuals_test_tree2   0.194858  0.014325     0.198610    0.014324   \n",
       "Mpg_residuals_test_tree3   0.193296  0.014292     0.201495    0.014937   \n",
       "Mpg_residuals_train_tree1  0.016994  0.000953     0.016953    0.000955   \n",
       "Mpg_residuals_train_tree2  0.006785  0.000303     0.004047    0.000407   \n",
       "...                             ...       ...          ...         ...   \n",
       "wine_quality_test_2tree    0.721131  0.011164     0.721111    0.011170   \n",
       "wine_quality_test_3tree    0.726673  0.010107     0.726491    0.010166   \n",
       "wine_quality_train_1tree   0.469695  0.003258     0.469695    0.003258   \n",
       "wine_quality_train_2tree   0.362634  0.004074     0.362632    0.004074   \n",
       "wine_quality_train_3tree   0.305207  0.004631     0.305218    0.004628   \n",
       "\n",
       "                           last_DT_mean  last_DT_std  \n",
       "Mpg_residuals_test_tree1       0.208435     0.015190  \n",
       "Mpg_residuals_test_tree2       0.199327     0.014285  \n",
       "Mpg_residuals_test_tree3       0.192559     0.013657  \n",
       "Mpg_residuals_train_tree1      0.016953     0.000955  \n",
       "Mpg_residuals_train_tree2      0.004039     0.000443  \n",
       "...                                 ...          ...  \n",
       "wine_quality_test_2tree        0.721111     0.011170  \n",
       "wine_quality_test_3tree        0.726652     0.010110  \n",
       "wine_quality_train_1tree       0.469695     0.003258  \n",
       "wine_quality_train_2tree       0.362632     0.004074  \n",
       "wine_quality_train_3tree       0.305198     0.004631  \n",
       "\n",
       "[240 rows x 6 columns]"
      ]
     },
     "execution_count": 143,
     "metadata": {},
     "output_type": "execute_result"
    }
   ],
   "source": [
    "df_resume"
   ]
  },
  {
   "cell_type": "code",
   "execution_count": null,
   "metadata": {},
   "outputs": [
    {
     "data": {
      "text/html": [
       "<div>\n",
       "<style scoped>\n",
       "    .dataframe tbody tr th:only-of-type {\n",
       "        vertical-align: middle;\n",
       "    }\n",
       "\n",
       "    .dataframe tbody tr th {\n",
       "        vertical-align: top;\n",
       "    }\n",
       "\n",
       "    .dataframe thead th {\n",
       "        text-align: right;\n",
       "    }\n",
       "</style>\n",
       "<table border=\"1\" class=\"dataframe\">\n",
       "  <thead>\n",
       "    <tr style=\"text-align: right;\">\n",
       "      <th></th>\n",
       "      <th>MT_mean</th>\n",
       "      <th>MT_std</th>\n",
       "      <th>all_DT_mean</th>\n",
       "      <th>all_DT_std</th>\n",
       "      <th>last_DT_mean</th>\n",
       "      <th>last_DT_std</th>\n",
       "    </tr>\n",
       "  </thead>\n",
       "  <tbody>\n",
       "    <tr>\n",
       "      <th>Mpg_residuals_test_tree1</th>\n",
       "      <td>0.208225</td>\n",
       "      <td>0.015197</td>\n",
       "      <td>0.208435</td>\n",
       "      <td>0.015190</td>\n",
       "      <td>0.208435</td>\n",
       "      <td>0.015190</td>\n",
       "    </tr>\n",
       "    <tr>\n",
       "      <th>Mpg_residuals_test_tree2</th>\n",
       "      <td>0.194858</td>\n",
       "      <td>0.014325</td>\n",
       "      <td>0.198610</td>\n",
       "      <td>0.014324</td>\n",
       "      <td>0.199327</td>\n",
       "      <td>0.014285</td>\n",
       "    </tr>\n",
       "    <tr>\n",
       "      <th>Mpg_residuals_test_tree3</th>\n",
       "      <td>0.193296</td>\n",
       "      <td>0.014292</td>\n",
       "      <td>0.201495</td>\n",
       "      <td>0.014937</td>\n",
       "      <td>0.192559</td>\n",
       "      <td>0.013657</td>\n",
       "    </tr>\n",
       "    <tr>\n",
       "      <th>Mpg_residuals_train_tree1</th>\n",
       "      <td>0.016994</td>\n",
       "      <td>0.000953</td>\n",
       "      <td>0.016953</td>\n",
       "      <td>0.000955</td>\n",
       "      <td>0.016953</td>\n",
       "      <td>0.000955</td>\n",
       "    </tr>\n",
       "    <tr>\n",
       "      <th>Mpg_residuals_train_tree2</th>\n",
       "      <td>0.006785</td>\n",
       "      <td>0.000303</td>\n",
       "      <td>0.004047</td>\n",
       "      <td>0.000407</td>\n",
       "      <td>0.004039</td>\n",
       "      <td>0.000443</td>\n",
       "    </tr>\n",
       "    <tr>\n",
       "      <th>...</th>\n",
       "      <td>...</td>\n",
       "      <td>...</td>\n",
       "      <td>...</td>\n",
       "      <td>...</td>\n",
       "      <td>...</td>\n",
       "      <td>...</td>\n",
       "    </tr>\n",
       "    <tr>\n",
       "      <th>wine_quality_test_2tree</th>\n",
       "      <td>0.721131</td>\n",
       "      <td>0.011164</td>\n",
       "      <td>0.721111</td>\n",
       "      <td>0.011170</td>\n",
       "      <td>0.721111</td>\n",
       "      <td>0.011170</td>\n",
       "    </tr>\n",
       "    <tr>\n",
       "      <th>wine_quality_test_3tree</th>\n",
       "      <td>0.726673</td>\n",
       "      <td>0.010107</td>\n",
       "      <td>0.726491</td>\n",
       "      <td>0.010166</td>\n",
       "      <td>0.726652</td>\n",
       "      <td>0.010110</td>\n",
       "    </tr>\n",
       "    <tr>\n",
       "      <th>wine_quality_train_1tree</th>\n",
       "      <td>0.469695</td>\n",
       "      <td>0.003258</td>\n",
       "      <td>0.469695</td>\n",
       "      <td>0.003258</td>\n",
       "      <td>0.469695</td>\n",
       "      <td>0.003258</td>\n",
       "    </tr>\n",
       "    <tr>\n",
       "      <th>wine_quality_train_2tree</th>\n",
       "      <td>0.362634</td>\n",
       "      <td>0.004074</td>\n",
       "      <td>0.362632</td>\n",
       "      <td>0.004074</td>\n",
       "      <td>0.362632</td>\n",
       "      <td>0.004074</td>\n",
       "    </tr>\n",
       "    <tr>\n",
       "      <th>wine_quality_train_3tree</th>\n",
       "      <td>0.305207</td>\n",
       "      <td>0.004631</td>\n",
       "      <td>0.305218</td>\n",
       "      <td>0.004628</td>\n",
       "      <td>0.305198</td>\n",
       "      <td>0.004631</td>\n",
       "    </tr>\n",
       "  </tbody>\n",
       "</table>\n",
       "<p>240 rows × 6 columns</p>\n",
       "</div>"
      ],
      "text/plain": [
       "                            MT_mean    MT_std  all_DT_mean  all_DT_std  \\\n",
       "Mpg_residuals_test_tree1   0.208225  0.015197     0.208435    0.015190   \n",
       "Mpg_residuals_test_tree2   0.194858  0.014325     0.198610    0.014324   \n",
       "Mpg_residuals_test_tree3   0.193296  0.014292     0.201495    0.014937   \n",
       "Mpg_residuals_train_tree1  0.016994  0.000953     0.016953    0.000955   \n",
       "Mpg_residuals_train_tree2  0.006785  0.000303     0.004047    0.000407   \n",
       "...                             ...       ...          ...         ...   \n",
       "wine_quality_test_2tree    0.721131  0.011164     0.721111    0.011170   \n",
       "wine_quality_test_3tree    0.726673  0.010107     0.726491    0.010166   \n",
       "wine_quality_train_1tree   0.469695  0.003258     0.469695    0.003258   \n",
       "wine_quality_train_2tree   0.362634  0.004074     0.362632    0.004074   \n",
       "wine_quality_train_3tree   0.305207  0.004631     0.305218    0.004628   \n",
       "\n",
       "                           last_DT_mean  last_DT_std  \n",
       "Mpg_residuals_test_tree1       0.208435     0.015190  \n",
       "Mpg_residuals_test_tree2       0.199327     0.014285  \n",
       "Mpg_residuals_test_tree3       0.192559     0.013657  \n",
       "Mpg_residuals_train_tree1      0.016953     0.000955  \n",
       "Mpg_residuals_train_tree2      0.004039     0.000443  \n",
       "...                                 ...          ...  \n",
       "wine_quality_test_2tree        0.721111     0.011170  \n",
       "wine_quality_test_3tree        0.726652     0.010110  \n",
       "wine_quality_train_1tree       0.469695     0.003258  \n",
       "wine_quality_train_2tree       0.362632     0.004074  \n",
       "wine_quality_train_3tree       0.305198     0.004631  \n",
       "\n",
       "[240 rows x 6 columns]"
      ]
     },
     "execution_count": 144,
     "metadata": {},
     "output_type": "execute_result"
    }
   ],
   "source": [
    "pd.read_csv(FILE_DIR / 'df_resume_benchmark.csv', index_col=0)"
   ]
  },
  {
   "cell_type": "code",
   "execution_count": null,
   "metadata": {},
   "outputs": [],
   "source": []
  }
 ],
 "metadata": {
  "kernelspec": {
   "display_name": "bayesml_dev_310",
   "language": "python",
   "name": "python3"
  },
  "language_info": {
   "codemirror_mode": {
    "name": "ipython",
    "version": 3
   },
   "file_extension": ".py",
   "mimetype": "text/x-python",
   "name": "python",
   "nbconvert_exporter": "python",
   "pygments_lexer": "ipython3",
   "version": "3.10.15"
  }
 },
 "nbformat": 4,
 "nbformat_minor": 2
}
