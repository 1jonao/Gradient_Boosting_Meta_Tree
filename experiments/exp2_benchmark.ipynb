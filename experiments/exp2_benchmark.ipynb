{
 "cells": [
  {
   "cell_type": "code",
   "execution_count": null,
   "metadata": {},
   "outputs": [],
   "source": [
    "import sys, os\n",
    "import pathlib\n",
    "\n",
    "import numpy as np\n",
    "import pandas as pd\n",
    "import warnings\n",
    "warnings.filterwarnings('ignore', category=FutureWarning)\n",
    "warnings.filterwarnings('ignore', category=RuntimeWarning)\n",
    "import matplotlib.pyplot as plt\n",
    "from tqdm.notebook import tqdm\n",
    "import pathlib\n",
    "from copy import deepcopy\n"
   ]
  },
  {
   "cell_type": "code",
   "execution_count": null,
   "metadata": {},
   "outputs": [],
   "source": [
    "ROOT_DIR = pathlib.Path().resolve().parent\n",
    "print(ROOT_DIR)\n",
    "sys.path.append(str(ROOT_DIR))\n",
    "FIG_DIR = ROOT_DIR / 'results' / 'figures'\n",
    "os.makedirs(FIG_DIR, exist_ok=True)\n",
    "ERROR_ARR_SAVE_DIR = ROOT_DIR / 'results' / 'error_array'\n",
    "os.makedirs(ERROR_ARR_SAVE_DIR, exist_ok=True)"
   ]
  },
  {
   "cell_type": "code",
   "execution_count": null,
   "metadata": {},
   "outputs": [],
   "source": [
    "from gradient_boosting_meta_tree import metatree, normal\n",
    "from sklearn.ensemble import GradientBoostingRegressor"
   ]
  },
  {
   "cell_type": "code",
   "execution_count": null,
   "metadata": {},
   "outputs": [],
   "source": [
    "SEED = 0\n",
    "rng = np.random.default_rng(SEED)\n",
    "np.random.seed(SEED)\n",
    "MODEL_SEED = 0 # Seed for the learnmodel"
   ]
  },
  {
   "cell_type": "markdown",
   "metadata": {},
   "source": [
    "# Read benchmark data"
   ]
  },
  {
   "cell_type": "code",
   "execution_count": null,
   "metadata": {},
   "outputs": [],
   "source": [
    "# Path to benchmark data\n",
    "DIR_DATA = ROOT_DIR / 'data' / 'regression' / 'preprocessed_data'"
   ]
  },
  {
   "cell_type": "code",
   "execution_count": null,
   "metadata": {},
   "outputs": [],
   "source": [
    "# Get all data names from folder list\n",
    "DATA_NAMES = os.listdir(DIR_DATA)\n",
    "DATA_NAMES = np.sort([d for d in DATA_NAMES if d != '.DS_Store']).tolist()\n",
    "DATA_NAMES"
   ]
  },
  {
   "cell_type": "markdown",
   "metadata": {},
   "source": [
    "## Load data"
   ]
  },
  {
   "cell_type": "markdown",
   "metadata": {},
   "source": [
    "## Function definitions"
   ]
  },
  {
   "cell_type": "code",
   "execution_count": null,
   "metadata": {},
   "outputs": [],
   "source": [
    "def load_data(\n",
    "        data_name: str,\n",
    "        dir_data: str=DIR_DATA,\n",
    "        flag_lr: bool = False,\n",
    "):\n",
    "    # Change path for individual environment\n",
    "    X_continuous_load = np.load(os.path.join(dir_data,data_name,'x_continuous.npy'))\n",
    "    X_categorical = np.load(os.path.join(dir_data,data_name,'x_categorical.npy')).astype(int)\n",
    "    y = np.load(os.path.join(dir_data,data_name,'y.npy'))\n",
    "\n",
    "    # Standardize continuous explanatory variables\n",
    "    mean = np.mean(X_continuous_load,axis=0)\n",
    "    std = np.std(X_continuous_load,axis=0)\n",
    "    X_continuous = (X_continuous_load - mean) / std\n",
    "\n",
    "    # Add intercept term for linear regression\n",
    "    if flag_lr:\n",
    "        tmp = np.copy(X_continuous)\n",
    "        X_continuous = np.ones([tmp.shape[0],tmp.shape[1]+1])\n",
    "        X_continuous[:,:-1] = tmp\n",
    "\n",
    "    # Standardize target variable\n",
    "    y = (y - y.mean()) / y.std()\n",
    "\n",
    "    return X_continuous, X_categorical, y"
   ]
  },
  {
   "cell_type": "code",
   "execution_count": null,
   "metadata": {},
   "outputs": [],
   "source": [
    "# Check the number of samples and features for all datasets\n",
    "for data_name in DATA_NAMES:\n",
    "    x_continuous,x_categorical,y = load_data(data_name,DIR_DATA)\n",
    "    print(data_name, x_continuous.shape[0], x_continuous.shape[1] + x_categorical.shape[1])"
   ]
  },
  {
   "cell_type": "markdown",
   "metadata": {},
   "source": [
    "## Create functions for training and metric calculation"
   ]
  },
  {
   "cell_type": "code",
   "execution_count": null,
   "metadata": {},
   "outputs": [],
   "source": [
    "# Specify the number of trees here due to function definition order\n",
    "num_tree = 100"
   ]
  },
  {
   "cell_type": "code",
   "execution_count": null,
   "metadata": {},
   "outputs": [],
   "source": [
    "from sklearn.metrics import mean_squared_error"
   ]
  },
  {
   "cell_type": "code",
   "execution_count": null,
   "metadata": {},
   "outputs": [],
   "source": [
    "sub_h_params_learnmodel = {\n",
    "    'h0_tau_x': 1e1,\n",
    "    'h0_m': 0.,\n",
    "    'h0_tau': 1e0,\n",
    "    'known_precision': True,\n",
    "}\n",
    "# Change here in 3,5,15 and rerun to have each result\n",
    "max_depth = 15\n",
    "h0_split = 0.8\n",
    "learning_rate = 0.5"
   ]
  },
  {
   "cell_type": "code",
   "execution_count": null,
   "metadata": {},
   "outputs": [],
   "source": [
    "MTGB_model_dict = {\n",
    "    'model': metatree.SumOfMetaTreeLearnModel,\n",
    "    'model_type': 'metatree',\n",
    "    'init_params': {\n",
    "        'c_num_metatrees': num_tree,\n",
    "        'SubModel': normal,\n",
    "        'sub_h0_params': sub_h_params_learnmodel,\n",
    "        'c_max_depth': max_depth,\n",
    "        'h0_split': h0_split,\n",
    "        'learning_rate': learning_rate,\n",
    "        'seed': MODEL_SEED,\n",
    "    },\n",
    "    'build_params': {\n",
    "        'split_strategy': 'best',\n",
    "        'building_scheme': 'depth_first',\n",
    "        'calc_residual': True,\n",
    "    }\n",
    "}"
   ]
  },
  {
   "cell_type": "markdown",
   "metadata": {},
   "source": [
    "## Define functions"
   ]
  },
  {
   "cell_type": "code",
   "execution_count": null,
   "metadata": {},
   "outputs": [],
   "source": [
    "def pred_measure_performance_gb(\n",
    "        x_continuous_train, x_categorical_train, y_train,\n",
    "        x_continuous_test, x_categorical_test, y_test,\n",
    "        num_tree,\n",
    "        ccp_alpha,\n",
    "):\n",
    "    x_train = np.concatenate([x_continuous_train, x_categorical_train], axis=1)\n",
    "    x_test = np.concatenate([x_continuous_test, x_categorical_test], axis=1)\n",
    "\n",
    "    gb = GradientBoostingRegressor(n_estimators=num_tree, learning_rate=learning_rate, max_depth=max_depth, random_state=MODEL_SEED, ccp_alpha=ccp_alpha)\n",
    "    gb.fit(x_train, y_train)\n",
    "    hat_y_train = gb.predict(x_train)\n",
    "    hat_y_test = gb.predict(x_test)\n",
    "\n",
    "    train_mse = mean_squared_error(y_train, hat_y_train)\n",
    "    test_mse = mean_squared_error(y_test, hat_y_test)\n",
    "    return train_mse, test_mse"
   ]
  },
  {
   "cell_type": "code",
   "execution_count": null,
   "metadata": {},
   "outputs": [],
   "source": [
    "def pred_measure_performance_mtgb(\n",
    "        x_continuous_train, x_categorical_train, y_train,\n",
    "        x_continuous_test, x_categorical_test, y_test,\n",
    "        num_tree,\n",
    "):\n",
    "        data_info = {\n",
    "                'c_dim_continuous': x_continuous_train.shape[1],\n",
    "                'c_dim_categorical': x_categorical_train.shape[1],\n",
    "        }\n",
    "        init_inputs = {\n",
    "                **MTGB_model_dict['init_params'],\n",
    "                **data_info,\n",
    "        }\n",
    "\n",
    "        build_inputs = {\n",
    "                **MTGB_model_dict['build_params'],\n",
    "                'x_continuous_vecs': x_continuous_train,\n",
    "                'x_categorical_vecs': x_categorical_train,\n",
    "                'y_vec': y_train,\n",
    "        }\n",
    "        model = MTGB_model_dict['model'](**init_inputs)\n",
    "        model.build_metatrees(**build_inputs)\n",
    "        # model.calc_pred_dist()\n",
    "\n",
    "        hat_y_train = model.make_prediction(\n",
    "                x_continuous_train,\n",
    "                x_categorical_train,\n",
    "                loss='squared',\n",
    "        )\n",
    "        hat_y_test = model.make_prediction(\n",
    "                x_continuous_test,\n",
    "                x_categorical_test,\n",
    "                loss='squared',\n",
    "        )\n",
    "\n",
    "        train_mse = mean_squared_error(y_train, hat_y_train)\n",
    "        test_mse = mean_squared_error(y_test, hat_y_test)\n",
    "        \n",
    "        root_split_proba_list = [None for _ in model.hn_metatree_list]\n",
    "        for i, metatree in enumerate(model.hn_metatree_list):\n",
    "                root_split_proba_list[i] = metatree.root_node.hn_split\n",
    "\n",
    "        return train_mse, test_mse, root_split_proba_list"
   ]
  },
  {
   "cell_type": "code",
   "execution_count": null,
   "metadata": {},
   "outputs": [],
   "source": [
    "from sklearn.model_selection import KFold\n",
    "def roop_kfold(\n",
    "        data_name,\n",
    "        num_tree,\n",
    "        modelname,\n",
    "        # do_metatree,\n",
    "        visualize,\n",
    "        num_cv=3,\n",
    "        num_folds=5,\n",
    "):\n",
    "        num_trials = num_cv * num_folds\n",
    "        x_continuous,x_categorical,y = load_data(data_name,DIR_DATA)\n",
    "        \n",
    "        # load mse list from ERROR_ARR_SAVE_DIR\n",
    "        # try:\n",
    "        #         train_mse_list = list(np.load(ERROR_ARR_SAVE_DIR / f'{data_name}_{modelname}_train_mse.npy'))\n",
    "        #         test_mse_list = list(np.load(ERROR_ARR_SAVE_DIR / f'{data_name}_{modelname}_test_mse.npy'))\n",
    "        # except:\n",
    "        #         # tqdm.write(f'No file found. Create new list.')\n",
    "        #         train_mse_list = []\n",
    "        #         test_mse_list = []\n",
    "        train_mse_list = []\n",
    "        test_mse_list = []\n",
    "        if modelname in ['MTGB']:\n",
    "                root_split_proba_list_list = []\n",
    "\n",
    "        with tqdm(total=num_cv, desc=f'{num_cv}CV', leave=False) as bar1:\n",
    "                for i in range(num_cv):\n",
    "                        with tqdm(total=num_folds, desc=f'{num_folds} folds', leave=False) as bar2:\n",
    "                                kf = KFold(n_splits=num_folds, shuffle=True, random_state=SEED+i)\n",
    "                                for j, (train_index, test_index) in enumerate(kf.split(y)):\n",
    "                                        x_continuous_train, x_continuous_test = x_continuous[train_index], x_continuous[test_index]\n",
    "                                        x_categorical_train, x_categorical_test = x_categorical[train_index], x_categorical[test_index]\n",
    "                                        y_train, y_test = y[train_index], y[test_index]\n",
    "                                        if  modelname.startswith('GB'):\n",
    "                                                if modelname == 'GB':\n",
    "                                                        ccp_alpha = 0.0\n",
    "                                                elif modelname == 'GBccp005':\n",
    "                                                        ccp_alpha = 0.005\n",
    "                                                elif modelname == 'GBccp01':\n",
    "                                                        ccp_alpha = 0.01\n",
    "                                                else:\n",
    "                                                        raise ValueError('modelname is invalid')\n",
    "                                                train_mse, test_mse = pred_measure_performance_gb(\n",
    "                                                        x_continuous_train, x_categorical_train, y_train,\n",
    "                                                        x_continuous_test, x_categorical_test, y_test,\n",
    "                                                        num_tree=num_tree,\n",
    "                                                        ccp_alpha=ccp_alpha\n",
    "                                                )\n",
    "                                                train_mse_list.append(train_mse)\n",
    "                                                test_mse_list.append(test_mse)\n",
    "                                                bar2.update(1)\n",
    "                                        elif modelname == 'MTGB':\n",
    "                                                train_mse, test_mse, root_split_proba_list = pred_measure_performance_mtgb(\n",
    "                                                        x_continuous_train, x_categorical_train, y_train,\n",
    "                                                        x_continuous_test, x_categorical_test, y_test,\n",
    "                                                        num_tree=num_tree,\n",
    "                                                )\n",
    "                                                train_mse_list.append(train_mse)\n",
    "                                                test_mse_list.append(test_mse)\n",
    "                                                root_split_proba_list_list.append(root_split_proba_list)\n",
    "                                                bar2.update(1)\n",
    "                                        else:\n",
    "                                                raise ValueError('modelname is invalid')\n",
    "                        bar1.update(1)\n",
    "        np.save(ERROR_ARR_SAVE_DIR / f'{data_name}_{modelname}{num_tree}_depth{max_depth}_train_mse.npy', np.array(train_mse_list))\n",
    "        np.save(ERROR_ARR_SAVE_DIR / f'{data_name}_{modelname}{num_tree}_depth{max_depth}_test_mse.npy', np.array(test_mse_list))\n",
    "        if modelname == 'MTGB':\n",
    "                np.save(ERROR_ARR_SAVE_DIR / f'{data_name}_{modelname}{num_tree}_depth{max_depth}_root_split_proba_list.npy', np.array(root_split_proba_list_list))\n",
    "        return"
   ]
  },
  {
   "cell_type": "markdown",
   "metadata": {},
   "source": [
    "## Execute loops"
   ]
  },
  {
   "cell_type": "code",
   "execution_count": null,
   "metadata": {},
   "outputs": [],
   "source": [
    "MODELNAME_LIST = [\n",
    "    'MTGB',\n",
    "    'GB',\n",
    "    'GBccp005',\n",
    "    'GBccp01',\n",
    "    ]"
   ]
  },
  {
   "cell_type": "code",
   "execution_count": null,
   "metadata": {},
   "outputs": [],
   "source": [
    "def experiment(\n",
    "    data_name,\n",
    "    num_tree,\n",
    "    visualize,\n",
    "    num_cv,\n",
    "    num_folds,\n",
    "):\n",
    "    with tqdm(total=len(MODELNAME_LIST), desc=\"Model\", leave=False) as pbar:\n",
    "        for modelname in MODELNAME_LIST:\n",
    "            txt = f'{data_name}: model = {modelname}'\n",
    "            pbar.set_postfix_str(txt)\n",
    "            roop_kfold(\n",
    "                data_name,\n",
    "                num_tree,\n",
    "                modelname,\n",
    "                visualize,\n",
    "                num_cv,\n",
    "                num_folds,\n",
    "            )\n",
    "            pbar.update(1)\n",
    "    return"
   ]
  },
  {
   "cell_type": "code",
   "execution_count": null,
   "metadata": {},
   "outputs": [],
   "source": [
    "DATA_NAMES"
   ]
  },
  {
   "cell_type": "code",
   "execution_count": null,
   "metadata": {},
   "outputs": [],
   "source": [
    "num_cv = 3\n",
    "num_folds = 5\n",
    "visualize = False\n",
    "\n",
    "df_resume = pd.DataFrame()\n",
    "tqdm.write(f'num_cv: {num_cv}, num_folds: {num_folds}, visualize: {visualize}, num_tree: {num_tree}')\n",
    "with tqdm(total=len(DATA_NAMES), desc=\"Data\", leave=False) as pbar:\n",
    "    for data_name in DATA_NAMES:\n",
    "        x_continuous,x_categorical,y = load_data(data_name,DIR_DATA)\n",
    "        txt = f'{data_name}: {x_continuous.shape[0]} samples, {x_continuous.shape[1]+x_categorical.shape[1]} features'\n",
    "        pbar.set_postfix_str(txt)\n",
    "        res_dict = experiment(\n",
    "            data_name,\n",
    "            num_tree,\n",
    "            visualize,\n",
    "            num_cv,\n",
    "            num_folds,\n",
    "        )\n",
    "        pbar.update(1)"
   ]
  }
 ],
 "metadata": {
  "kernelspec": {
   "display_name": "bayesml_dev_310",
   "language": "python",
   "name": "python3"
  },
  "language_info": {
   "codemirror_mode": {
    "name": "ipython",
    "version": 3
   },
   "file_extension": ".py",
   "mimetype": "text/x-python",
   "name": "python",
   "nbconvert_exporter": "python",
   "pygments_lexer": "ipython3",
   "version": "3.10.15"
  }
 },
 "nbformat": 4,
 "nbformat_minor": 2
}
