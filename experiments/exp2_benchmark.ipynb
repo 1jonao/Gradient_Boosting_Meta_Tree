{
 "cells": [
  {
   "cell_type": "code",
   "execution_count": 1,
   "metadata": {},
   "outputs": [],
   "source": [
    "import sys, os\n",
    "import pathlib\n",
    "\n",
    "import numpy as np\n",
    "import pandas as pd\n",
    "import warnings\n",
    "warnings.filterwarnings('ignore', category=FutureWarning)\n",
    "warnings.filterwarnings('ignore', category=RuntimeWarning)\n",
    "import matplotlib.pyplot as plt\n",
    "from tqdm.notebook import tqdm\n",
    "import pathlib\n",
    "from copy import deepcopy\n"
   ]
  },
  {
   "cell_type": "code",
   "execution_count": 2,
   "metadata": {},
   "outputs": [
    {
     "name": "stdout",
     "output_type": "stream",
     "text": [
      "/Users/1nao/GitHub/Gradient_Boosting_Meta_Tree\n"
     ]
    }
   ],
   "source": [
    "ROOT_DIR = pathlib.Path().resolve().parent\n",
    "print(ROOT_DIR)\n",
    "sys.path.append(str(ROOT_DIR))\n",
    "FIG_DIR = ROOT_DIR / 'results' / 'figures'\n",
    "os.makedirs(FIG_DIR, exist_ok=True)\n",
    "ERROR_ARR_SAVE_DIR = ROOT_DIR / 'results' / 'error_array'\n",
    "os.makedirs(ERROR_ARR_SAVE_DIR, exist_ok=True)"
   ]
  },
  {
   "cell_type": "code",
   "execution_count": 3,
   "metadata": {},
   "outputs": [],
   "source": [
    "from gradient_boosting_meta_tree import metatree, normal\n",
    "from sklearn.ensemble import GradientBoostingRegressor"
   ]
  },
  {
   "cell_type": "code",
   "execution_count": 4,
   "metadata": {},
   "outputs": [],
   "source": [
    "SEED = 0\n",
    "rng = np.random.default_rng(SEED)\n",
    "np.random.seed(SEED)\n",
    "MODEL_SEED = 0 # Seed for the learnmodel"
   ]
  },
  {
   "cell_type": "markdown",
   "metadata": {},
   "source": [
    "# ベンチマークデータ読み込み"
   ]
  },
  {
   "cell_type": "code",
   "execution_count": 5,
   "metadata": {},
   "outputs": [],
   "source": [
    "DIR_DATA = ROOT_DIR / 'data' / 'regression' / 'preprocessed_data'"
   ]
  },
  {
   "cell_type": "code",
   "execution_count": 6,
   "metadata": {},
   "outputs": [
    {
     "data": {
      "text/plain": [
       "['Mpg',\n",
       " 'abalone',\n",
       " 'automobile',\n",
       " 'cpu',\n",
       " 'liver',\n",
       " 'servo',\n",
       " 'student',\n",
       " 'wine_quality']"
      ]
     },
     "execution_count": 6,
     "metadata": {},
     "output_type": "execute_result"
    }
   ],
   "source": [
    "# フォルダ名一覧から全データ名を取得\n",
    "DATA_NAMES = os.listdir(DIR_DATA)\n",
    "DATA_NAMES = np.sort([d for d in DATA_NAMES if d != '.DS_Store']).tolist()\n",
    "DATA_NAMES"
   ]
  },
  {
   "cell_type": "markdown",
   "metadata": {},
   "source": [
    "## データの読み込み"
   ]
  },
  {
   "cell_type": "markdown",
   "metadata": {},
   "source": [
    "## 関数の定義"
   ]
  },
  {
   "cell_type": "code",
   "execution_count": 7,
   "metadata": {},
   "outputs": [],
   "source": [
    "def load_data(\n",
    "        data_name: str,\n",
    "        dir_data: str=DIR_DATA,\n",
    "        flag_lr: bool = False,\n",
    "):\n",
    "    # 個人の環境でpathを変更\n",
    "    X_continuous_load = np.load(os.path.join(dir_data,data_name,'x_continuous.npy'))\n",
    "    X_categorical = np.load(os.path.join(dir_data,data_name,'x_categorical.npy')).astype(int)\n",
    "    y = np.load(os.path.join(dir_data,data_name,'y.npy'))\n",
    "\n",
    "    # 連続説明変数の標準化\n",
    "    mean = np.mean(X_continuous_load,axis=0)\n",
    "    std = np.std(X_continuous_load,axis=0)\n",
    "    X_continuous = (X_continuous_load - mean) / std\n",
    "\n",
    "    # 線形回帰で定数項を入れる処理\n",
    "    if flag_lr:\n",
    "        tmp = np.copy(X_continuous)\n",
    "        X_continuous = np.ones([tmp.shape[0],tmp.shape[1]+1])\n",
    "        X_continuous[:,:-1] = tmp\n",
    "\n",
    "    #標準化の処理\n",
    "    y = (y - y.mean()) / y.std()\n",
    "\n",
    "    return X_continuous, X_categorical, y"
   ]
  },
  {
   "cell_type": "code",
   "execution_count": 8,
   "metadata": {},
   "outputs": [
    {
     "name": "stdout",
     "output_type": "stream",
     "text": [
      "Mpg 392 11\n",
      "abalone 4177 10\n",
      "automobile 159 57\n",
      "cpu 209 36\n",
      "liver 345 5\n",
      "servo 167 12\n",
      "student 395 43\n",
      "wine_quality 4898 11\n"
     ]
    }
   ],
   "source": [
    "# すべてのデータのサンプル数と説明変数の数を確認\n",
    "for data_name in DATA_NAMES:\n",
    "    x_continuous,x_categorical,y = load_data(data_name,DIR_DATA)\n",
    "    print(data_name, x_continuous.shape[0], x_continuous.shape[1] + x_categorical.shape[1])"
   ]
  },
  {
   "cell_type": "markdown",
   "metadata": {},
   "source": [
    "## 学習と指標計算を行う関数作成"
   ]
  },
  {
   "cell_type": "code",
   "execution_count": 9,
   "metadata": {},
   "outputs": [],
   "source": [
    "# 関数の定義順の都合上木の数をここで指定\n",
    "num_tree = 100"
   ]
  },
  {
   "cell_type": "code",
   "execution_count": 10,
   "metadata": {},
   "outputs": [],
   "source": [
    "from sklearn.metrics import mean_squared_error"
   ]
  },
  {
   "cell_type": "code",
   "execution_count": 11,
   "metadata": {},
   "outputs": [],
   "source": [
    "sub_h_params_learnmodel = {\n",
    "    'h0_tau_x': 1e1,\n",
    "    'h0_m': 0.,\n",
    "    'h0_tau': 1e0,\n",
    "    'known_precision': True,\n",
    "}\n",
    "max_depth = 15 # change here in 3,5,15 and rerun to have each result\n",
    "h0_split = 0.8\n",
    "learning_rate = 0.5"
   ]
  },
  {
   "cell_type": "code",
   "execution_count": 12,
   "metadata": {},
   "outputs": [],
   "source": [
    "MTGB_model_dict = {\n",
    "    'model': metatree.SumOfMetaTreeLearnModel,\n",
    "    'model_type': 'metatree',\n",
    "    'init_params': {\n",
    "        'c_num_metatrees': num_tree,\n",
    "        'SubModel': normal,\n",
    "        'sub_h0_params': sub_h_params_learnmodel,\n",
    "        'c_max_depth': max_depth,\n",
    "        'h0_split': h0_split,\n",
    "        'learning_rate': learning_rate,\n",
    "        'seed': MODEL_SEED,\n",
    "    },\n",
    "    'build_params': {\n",
    "        'split_strategy': 'best',\n",
    "        'building_scheme': 'depth_first',\n",
    "        'calc_residual': True,\n",
    "    }\n",
    "}"
   ]
  },
  {
   "cell_type": "markdown",
   "metadata": {},
   "source": [
    "## Define functions"
   ]
  },
  {
   "cell_type": "code",
   "execution_count": 13,
   "metadata": {},
   "outputs": [],
   "source": [
    "def pred_measure_performance_gb(\n",
    "        x_continuous_train, x_categorical_train, y_train,\n",
    "        x_continuous_test, x_categorical_test, y_test,\n",
    "        num_tree,\n",
    "        ccp_alpha,\n",
    "):\n",
    "    x_train = np.concatenate([x_continuous_train, x_categorical_train], axis=1)\n",
    "    x_test = np.concatenate([x_continuous_test, x_categorical_test], axis=1)\n",
    "\n",
    "    gb = GradientBoostingRegressor(n_estimators=num_tree, learning_rate=learning_rate, max_depth=max_depth, random_state=MODEL_SEED, ccp_alpha=ccp_alpha)\n",
    "    gb.fit(x_train, y_train)\n",
    "    hat_y_train = gb.predict(x_train)\n",
    "    hat_y_test = gb.predict(x_test)\n",
    "\n",
    "    train_mse = mean_squared_error(y_train, hat_y_train)\n",
    "    test_mse = mean_squared_error(y_test, hat_y_test)\n",
    "    return train_mse, test_mse"
   ]
  },
  {
   "cell_type": "code",
   "execution_count": 14,
   "metadata": {},
   "outputs": [],
   "source": [
    "def pred_measure_performance_mtgb(\n",
    "        x_continuous_train, x_categorical_train, y_train,\n",
    "        x_continuous_test, x_categorical_test, y_test,\n",
    "        num_tree,\n",
    "):\n",
    "        data_info = {\n",
    "                'c_dim_continuous': x_continuous_train.shape[1],\n",
    "                'c_dim_categorical': x_categorical_train.shape[1],\n",
    "        }\n",
    "        init_inputs = {\n",
    "                **MTGB_model_dict['init_params'],\n",
    "                **data_info,\n",
    "        }\n",
    "\n",
    "        build_inputs = {\n",
    "                **MTGB_model_dict['build_params'],\n",
    "                'x_continuous_vecs': x_continuous_train,\n",
    "                'x_categorical_vecs': x_categorical_train,\n",
    "                'y_vec': y_train,\n",
    "        }\n",
    "        model = MTGB_model_dict['model'](**init_inputs)\n",
    "        model.build_metatrees(**build_inputs)\n",
    "        # model.calc_pred_dist()\n",
    "\n",
    "        hat_y_train = model.make_prediction(\n",
    "                x_continuous_train,\n",
    "                x_categorical_train,\n",
    "                loss='squared',\n",
    "        )\n",
    "        hat_y_test = model.make_prediction(\n",
    "                x_continuous_test,\n",
    "                x_categorical_test,\n",
    "                loss='squared',\n",
    "        )\n",
    "\n",
    "        train_mse = mean_squared_error(y_train, hat_y_train)\n",
    "        test_mse = mean_squared_error(y_test, hat_y_test)\n",
    "        \n",
    "        root_split_proba_list = [None for _ in model.hn_metatree_list]\n",
    "        for i, metatree in enumerate(model.hn_metatree_list):\n",
    "                root_split_proba_list[i] = metatree.root_node.hn_split\n",
    "\n",
    "        return train_mse, test_mse, root_split_proba_list"
   ]
  },
  {
   "cell_type": "code",
   "execution_count": 15,
   "metadata": {},
   "outputs": [],
   "source": [
    "from sklearn.model_selection import KFold\n",
    "def roop_kfold(\n",
    "        data_name,\n",
    "        num_tree,\n",
    "        modelname,\n",
    "        # do_metatree,\n",
    "        visualize,\n",
    "        num_cv=3,\n",
    "        num_folds=5,\n",
    "):\n",
    "        num_trials = num_cv * num_folds\n",
    "        x_continuous,x_categorical,y = load_data(data_name,DIR_DATA)\n",
    "        \n",
    "        # load mse list from ERROR_ARR_SAVE_DIR\n",
    "        # try:\n",
    "        #         train_mse_list = list(np.load(ERROR_ARR_SAVE_DIR / f'{data_name}_{modelname}_train_mse.npy'))\n",
    "        #         test_mse_list = list(np.load(ERROR_ARR_SAVE_DIR / f'{data_name}_{modelname}_test_mse.npy'))\n",
    "        # except:\n",
    "        #         # tqdm.write(f'No file found. Create new list.')\n",
    "        #         train_mse_list = []\n",
    "        #         test_mse_list = []\n",
    "        train_mse_list = []\n",
    "        test_mse_list = []\n",
    "        if modelname in ['MTGB']:\n",
    "                root_split_proba_list_list = []\n",
    "\n",
    "        with tqdm(total=num_cv, desc=f'{num_cv}CV', leave=False) as bar1:\n",
    "                for i in range(num_cv):\n",
    "                        with tqdm(total=num_folds, desc=f'{num_folds} folds', leave=False) as bar2:\n",
    "                                kf = KFold(n_splits=num_folds, shuffle=True, random_state=SEED+i)\n",
    "                                for j, (train_index, test_index) in enumerate(kf.split(y)):\n",
    "                                        x_continuous_train, x_continuous_test = x_continuous[train_index], x_continuous[test_index]\n",
    "                                        x_categorical_train, x_categorical_test = x_categorical[train_index], x_categorical[test_index]\n",
    "                                        y_train, y_test = y[train_index], y[test_index]\n",
    "                                        if  modelname.startswith('GB'):\n",
    "                                                if modelname == 'GB':\n",
    "                                                        ccp_alpha = 0.0\n",
    "                                                elif modelname == 'GBccp005':\n",
    "                                                        ccp_alpha = 0.005\n",
    "                                                elif modelname == 'GBccp01':\n",
    "                                                        ccp_alpha = 0.01\n",
    "                                                else:\n",
    "                                                        raise ValueError('modelname is invalid')\n",
    "                                                train_mse, test_mse = pred_measure_performance_gb(\n",
    "                                                        x_continuous_train, x_categorical_train, y_train,\n",
    "                                                        x_continuous_test, x_categorical_test, y_test,\n",
    "                                                        num_tree=num_tree,\n",
    "                                                        ccp_alpha=ccp_alpha\n",
    "                                                )\n",
    "                                                train_mse_list.append(train_mse)\n",
    "                                                test_mse_list.append(test_mse)\n",
    "                                                bar2.update(1)\n",
    "                                        elif modelname == 'MTGB':\n",
    "                                                train_mse, test_mse, root_split_proba_list = pred_measure_performance_mtgb(\n",
    "                                                        x_continuous_train, x_categorical_train, y_train,\n",
    "                                                        x_continuous_test, x_categorical_test, y_test,\n",
    "                                                        num_tree=num_tree,\n",
    "                                                )\n",
    "                                                train_mse_list.append(train_mse)\n",
    "                                                test_mse_list.append(test_mse)\n",
    "                                                root_split_proba_list_list.append(root_split_proba_list)\n",
    "                                                bar2.update(1)\n",
    "                                        else:\n",
    "                                                raise ValueError('modelname is invalid')\n",
    "                        bar1.update(1)\n",
    "        np.save(ERROR_ARR_SAVE_DIR / f'{data_name}_{modelname}{num_tree}_depth{max_depth}_train_mse.npy', np.array(train_mse_list))\n",
    "        np.save(ERROR_ARR_SAVE_DIR / f'{data_name}_{modelname}{num_tree}_depth{max_depth}_test_mse.npy', np.array(test_mse_list))\n",
    "        if modelname == 'MTGB':\n",
    "                np.save(ERROR_ARR_SAVE_DIR / f'{data_name}_{modelname}{num_tree}_depth{max_depth}_root_split_proba_list.npy', np.array(root_split_proba_list_list))\n",
    "        return"
   ]
  },
  {
   "cell_type": "markdown",
   "metadata": {},
   "source": [
    "## execute roops"
   ]
  },
  {
   "cell_type": "code",
   "execution_count": null,
   "metadata": {},
   "outputs": [],
   "source": [
    "MODELNAME_LIST = [\n",
    "    'MTGB',\n",
    "    'GB',\n",
    "    'GBccp005',\n",
    "    'GBccp01',\n",
    "    ]"
   ]
  },
  {
   "cell_type": "code",
   "execution_count": 17,
   "metadata": {},
   "outputs": [],
   "source": [
    "def experiment(\n",
    "    data_name,\n",
    "    num_tree,\n",
    "    visualize,\n",
    "    num_cv,\n",
    "    num_folds,\n",
    "):\n",
    "    with tqdm(total=len(MODELNAME_LIST), desc=\"Model\", leave=False) as pbar:\n",
    "        for modelname in MODELNAME_LIST:\n",
    "            txt = f'{data_name}: model = {modelname}'\n",
    "            pbar.set_postfix_str(txt)\n",
    "            roop_kfold(\n",
    "                data_name,\n",
    "                num_tree,\n",
    "                modelname,\n",
    "                visualize,\n",
    "                num_cv,\n",
    "                num_folds,\n",
    "            )\n",
    "            pbar.update(1)\n",
    "    return"
   ]
  },
  {
   "cell_type": "code",
   "execution_count": 18,
   "metadata": {},
   "outputs": [
    {
     "data": {
      "text/plain": [
       "['Mpg',\n",
       " 'abalone',\n",
       " 'automobile',\n",
       " 'cpu',\n",
       " 'liver',\n",
       " 'servo',\n",
       " 'student',\n",
       " 'wine_quality']"
      ]
     },
     "execution_count": 18,
     "metadata": {},
     "output_type": "execute_result"
    }
   ],
   "source": [
    "DATA_NAMES"
   ]
  },
  {
   "cell_type": "code",
   "execution_count": 19,
   "metadata": {},
   "outputs": [
    {
     "name": "stdout",
     "output_type": "stream",
     "text": [
      "num_cv: 3, num_folds: 5, visualize: False, num_tree: 100\n"
     ]
    },
    {
     "data": {
      "application/vnd.jupyter.widget-view+json": {
       "model_id": "1363f8bf9dfe42f1b19473a327afd542",
       "version_major": 2,
       "version_minor": 0
      },
      "text/plain": [
       "Data:   0%|          | 0/8 [00:00<?, ?it/s]"
      ]
     },
     "metadata": {},
     "output_type": "display_data"
    },
    {
     "data": {
      "application/vnd.jupyter.widget-view+json": {
       "model_id": "7eb55eccc2034371a5c6dd30acc824a4",
       "version_major": 2,
       "version_minor": 0
      },
      "text/plain": [
       "Model:   0%|          | 0/2 [00:00<?, ?it/s]"
      ]
     },
     "metadata": {},
     "output_type": "display_data"
    },
    {
     "data": {
      "application/vnd.jupyter.widget-view+json": {
       "model_id": "11ae07c095cf423c8d03a6d2e9832b57",
       "version_major": 2,
       "version_minor": 0
      },
      "text/plain": [
       "3CV:   0%|          | 0/3 [00:00<?, ?it/s]"
      ]
     },
     "metadata": {},
     "output_type": "display_data"
    },
    {
     "data": {
      "application/vnd.jupyter.widget-view+json": {
       "model_id": "d17c8ce187524ad9a89ab14f797a78d3",
       "version_major": 2,
       "version_minor": 0
      },
      "text/plain": [
       "5 folds:   0%|          | 0/5 [00:00<?, ?it/s]"
      ]
     },
     "metadata": {},
     "output_type": "display_data"
    },
    {
     "data": {
      "application/vnd.jupyter.widget-view+json": {
       "model_id": "dd9ecbf5463d4d829780aaa60dbf0445",
       "version_major": 2,
       "version_minor": 0
      },
      "text/plain": [
       "5 folds:   0%|          | 0/5 [00:00<?, ?it/s]"
      ]
     },
     "metadata": {},
     "output_type": "display_data"
    },
    {
     "data": {
      "application/vnd.jupyter.widget-view+json": {
       "model_id": "2e906cb717c242f4951582f69f958699",
       "version_major": 2,
       "version_minor": 0
      },
      "text/plain": [
       "5 folds:   0%|          | 0/5 [00:00<?, ?it/s]"
      ]
     },
     "metadata": {},
     "output_type": "display_data"
    },
    {
     "data": {
      "application/vnd.jupyter.widget-view+json": {
       "model_id": "142958d6fead476d8fdac51c0178ceeb",
       "version_major": 2,
       "version_minor": 0
      },
      "text/plain": [
       "3CV:   0%|          | 0/3 [00:00<?, ?it/s]"
      ]
     },
     "metadata": {},
     "output_type": "display_data"
    },
    {
     "data": {
      "application/vnd.jupyter.widget-view+json": {
       "model_id": "061988644e87425992ba28f9e2ed5777",
       "version_major": 2,
       "version_minor": 0
      },
      "text/plain": [
       "5 folds:   0%|          | 0/5 [00:00<?, ?it/s]"
      ]
     },
     "metadata": {},
     "output_type": "display_data"
    },
    {
     "data": {
      "application/vnd.jupyter.widget-view+json": {
       "model_id": "1c10ad7a710f4818b8dab1a95c0a2410",
       "version_major": 2,
       "version_minor": 0
      },
      "text/plain": [
       "5 folds:   0%|          | 0/5 [00:00<?, ?it/s]"
      ]
     },
     "metadata": {},
     "output_type": "display_data"
    },
    {
     "data": {
      "application/vnd.jupyter.widget-view+json": {
       "model_id": "9efafc8c988449e9ab759d51feb64d11",
       "version_major": 2,
       "version_minor": 0
      },
      "text/plain": [
       "5 folds:   0%|          | 0/5 [00:00<?, ?it/s]"
      ]
     },
     "metadata": {},
     "output_type": "display_data"
    },
    {
     "data": {
      "application/vnd.jupyter.widget-view+json": {
       "model_id": "0da26d6622cf49d1936e38baf5ea234f",
       "version_major": 2,
       "version_minor": 0
      },
      "text/plain": [
       "Model:   0%|          | 0/2 [00:00<?, ?it/s]"
      ]
     },
     "metadata": {},
     "output_type": "display_data"
    },
    {
     "data": {
      "application/vnd.jupyter.widget-view+json": {
       "model_id": "af92596b2d4048cca6f0fa44ded2839c",
       "version_major": 2,
       "version_minor": 0
      },
      "text/plain": [
       "3CV:   0%|          | 0/3 [00:00<?, ?it/s]"
      ]
     },
     "metadata": {},
     "output_type": "display_data"
    },
    {
     "data": {
      "application/vnd.jupyter.widget-view+json": {
       "model_id": "c760533501374bd19d60be2628ae8abb",
       "version_major": 2,
       "version_minor": 0
      },
      "text/plain": [
       "5 folds:   0%|          | 0/5 [00:00<?, ?it/s]"
      ]
     },
     "metadata": {},
     "output_type": "display_data"
    },
    {
     "data": {
      "application/vnd.jupyter.widget-view+json": {
       "model_id": "4a4dfc5dc4fc414894969a276cf7b4bb",
       "version_major": 2,
       "version_minor": 0
      },
      "text/plain": [
       "5 folds:   0%|          | 0/5 [00:00<?, ?it/s]"
      ]
     },
     "metadata": {},
     "output_type": "display_data"
    },
    {
     "data": {
      "application/vnd.jupyter.widget-view+json": {
       "model_id": "f1577ce0e5684d9b8fa2a1d1c737af94",
       "version_major": 2,
       "version_minor": 0
      },
      "text/plain": [
       "5 folds:   0%|          | 0/5 [00:00<?, ?it/s]"
      ]
     },
     "metadata": {},
     "output_type": "display_data"
    },
    {
     "data": {
      "application/vnd.jupyter.widget-view+json": {
       "model_id": "b0c777e39d824e568460de39e961b298",
       "version_major": 2,
       "version_minor": 0
      },
      "text/plain": [
       "3CV:   0%|          | 0/3 [00:00<?, ?it/s]"
      ]
     },
     "metadata": {},
     "output_type": "display_data"
    },
    {
     "data": {
      "application/vnd.jupyter.widget-view+json": {
       "model_id": "33f78172bc4042f4a143027e89d56c2c",
       "version_major": 2,
       "version_minor": 0
      },
      "text/plain": [
       "5 folds:   0%|          | 0/5 [00:00<?, ?it/s]"
      ]
     },
     "metadata": {},
     "output_type": "display_data"
    },
    {
     "data": {
      "application/vnd.jupyter.widget-view+json": {
       "model_id": "cfecc2ef1b8844d8a472ef0a7346e42e",
       "version_major": 2,
       "version_minor": 0
      },
      "text/plain": [
       "5 folds:   0%|          | 0/5 [00:00<?, ?it/s]"
      ]
     },
     "metadata": {},
     "output_type": "display_data"
    },
    {
     "data": {
      "application/vnd.jupyter.widget-view+json": {
       "model_id": "5cd12e07062d4ebfa6f26e74504af4ca",
       "version_major": 2,
       "version_minor": 0
      },
      "text/plain": [
       "5 folds:   0%|          | 0/5 [00:00<?, ?it/s]"
      ]
     },
     "metadata": {},
     "output_type": "display_data"
    },
    {
     "data": {
      "application/vnd.jupyter.widget-view+json": {
       "model_id": "0038ff7eb993472bb9a4942edbb997e7",
       "version_major": 2,
       "version_minor": 0
      },
      "text/plain": [
       "Model:   0%|          | 0/2 [00:00<?, ?it/s]"
      ]
     },
     "metadata": {},
     "output_type": "display_data"
    },
    {
     "data": {
      "application/vnd.jupyter.widget-view+json": {
       "model_id": "46f46e67e68c49cf9dcfd8a97c67c846",
       "version_major": 2,
       "version_minor": 0
      },
      "text/plain": [
       "3CV:   0%|          | 0/3 [00:00<?, ?it/s]"
      ]
     },
     "metadata": {},
     "output_type": "display_data"
    },
    {
     "data": {
      "application/vnd.jupyter.widget-view+json": {
       "model_id": "10ef44c2206d49c5b8348cab0f9b74f5",
       "version_major": 2,
       "version_minor": 0
      },
      "text/plain": [
       "5 folds:   0%|          | 0/5 [00:00<?, ?it/s]"
      ]
     },
     "metadata": {},
     "output_type": "display_data"
    },
    {
     "data": {
      "application/vnd.jupyter.widget-view+json": {
       "model_id": "a0c63f04edff4c5db906c1e64d45eb37",
       "version_major": 2,
       "version_minor": 0
      },
      "text/plain": [
       "5 folds:   0%|          | 0/5 [00:00<?, ?it/s]"
      ]
     },
     "metadata": {},
     "output_type": "display_data"
    },
    {
     "data": {
      "application/vnd.jupyter.widget-view+json": {
       "model_id": "c78f0a2d15f940299973b7b194c7a6ac",
       "version_major": 2,
       "version_minor": 0
      },
      "text/plain": [
       "5 folds:   0%|          | 0/5 [00:00<?, ?it/s]"
      ]
     },
     "metadata": {},
     "output_type": "display_data"
    },
    {
     "data": {
      "application/vnd.jupyter.widget-view+json": {
       "model_id": "0780072920f546d2a6c47d431efc3523",
       "version_major": 2,
       "version_minor": 0
      },
      "text/plain": [
       "3CV:   0%|          | 0/3 [00:00<?, ?it/s]"
      ]
     },
     "metadata": {},
     "output_type": "display_data"
    },
    {
     "data": {
      "application/vnd.jupyter.widget-view+json": {
       "model_id": "0ce25db4c63544188ae5db6ff0366e3f",
       "version_major": 2,
       "version_minor": 0
      },
      "text/plain": [
       "5 folds:   0%|          | 0/5 [00:00<?, ?it/s]"
      ]
     },
     "metadata": {},
     "output_type": "display_data"
    },
    {
     "data": {
      "application/vnd.jupyter.widget-view+json": {
       "model_id": "3d8a1653ceab4c73946ccb4a914e553c",
       "version_major": 2,
       "version_minor": 0
      },
      "text/plain": [
       "5 folds:   0%|          | 0/5 [00:00<?, ?it/s]"
      ]
     },
     "metadata": {},
     "output_type": "display_data"
    },
    {
     "data": {
      "application/vnd.jupyter.widget-view+json": {
       "model_id": "73c977b16b2844b7a32c773ffed7e823",
       "version_major": 2,
       "version_minor": 0
      },
      "text/plain": [
       "5 folds:   0%|          | 0/5 [00:00<?, ?it/s]"
      ]
     },
     "metadata": {},
     "output_type": "display_data"
    },
    {
     "data": {
      "application/vnd.jupyter.widget-view+json": {
       "model_id": "5b4fc87f241e4c6f927529f4fd87cdf5",
       "version_major": 2,
       "version_minor": 0
      },
      "text/plain": [
       "Model:   0%|          | 0/2 [00:00<?, ?it/s]"
      ]
     },
     "metadata": {},
     "output_type": "display_data"
    },
    {
     "data": {
      "application/vnd.jupyter.widget-view+json": {
       "model_id": "851b88f0332344e48c562ad0d76214af",
       "version_major": 2,
       "version_minor": 0
      },
      "text/plain": [
       "3CV:   0%|          | 0/3 [00:00<?, ?it/s]"
      ]
     },
     "metadata": {},
     "output_type": "display_data"
    },
    {
     "data": {
      "application/vnd.jupyter.widget-view+json": {
       "model_id": "22def80b235944b8b1496eadce199292",
       "version_major": 2,
       "version_minor": 0
      },
      "text/plain": [
       "5 folds:   0%|          | 0/5 [00:00<?, ?it/s]"
      ]
     },
     "metadata": {},
     "output_type": "display_data"
    },
    {
     "data": {
      "application/vnd.jupyter.widget-view+json": {
       "model_id": "edac3a8fb3b8440aa4a7f665b45b05ff",
       "version_major": 2,
       "version_minor": 0
      },
      "text/plain": [
       "5 folds:   0%|          | 0/5 [00:00<?, ?it/s]"
      ]
     },
     "metadata": {},
     "output_type": "display_data"
    },
    {
     "data": {
      "application/vnd.jupyter.widget-view+json": {
       "model_id": "7a1c1834bb3b49cc92e145bdec115ff0",
       "version_major": 2,
       "version_minor": 0
      },
      "text/plain": [
       "5 folds:   0%|          | 0/5 [00:00<?, ?it/s]"
      ]
     },
     "metadata": {},
     "output_type": "display_data"
    },
    {
     "data": {
      "application/vnd.jupyter.widget-view+json": {
       "model_id": "921125c5f2bd4ed893c3577c74ec0074",
       "version_major": 2,
       "version_minor": 0
      },
      "text/plain": [
       "3CV:   0%|          | 0/3 [00:00<?, ?it/s]"
      ]
     },
     "metadata": {},
     "output_type": "display_data"
    },
    {
     "data": {
      "application/vnd.jupyter.widget-view+json": {
       "model_id": "bdf92ec8d55944789b8db875b7f634f3",
       "version_major": 2,
       "version_minor": 0
      },
      "text/plain": [
       "5 folds:   0%|          | 0/5 [00:00<?, ?it/s]"
      ]
     },
     "metadata": {},
     "output_type": "display_data"
    },
    {
     "data": {
      "application/vnd.jupyter.widget-view+json": {
       "model_id": "1caf46ca617e4703881c1d77c9280972",
       "version_major": 2,
       "version_minor": 0
      },
      "text/plain": [
       "5 folds:   0%|          | 0/5 [00:00<?, ?it/s]"
      ]
     },
     "metadata": {},
     "output_type": "display_data"
    },
    {
     "data": {
      "application/vnd.jupyter.widget-view+json": {
       "model_id": "21ef19063dd840788fb3536a03558fd9",
       "version_major": 2,
       "version_minor": 0
      },
      "text/plain": [
       "5 folds:   0%|          | 0/5 [00:00<?, ?it/s]"
      ]
     },
     "metadata": {},
     "output_type": "display_data"
    },
    {
     "data": {
      "application/vnd.jupyter.widget-view+json": {
       "model_id": "de6bf77bd47d4010aaf4f05896ed7838",
       "version_major": 2,
       "version_minor": 0
      },
      "text/plain": [
       "Model:   0%|          | 0/2 [00:00<?, ?it/s]"
      ]
     },
     "metadata": {},
     "output_type": "display_data"
    },
    {
     "data": {
      "application/vnd.jupyter.widget-view+json": {
       "model_id": "bf22dc7815c34f7982909d5f82aede27",
       "version_major": 2,
       "version_minor": 0
      },
      "text/plain": [
       "3CV:   0%|          | 0/3 [00:00<?, ?it/s]"
      ]
     },
     "metadata": {},
     "output_type": "display_data"
    },
    {
     "data": {
      "application/vnd.jupyter.widget-view+json": {
       "model_id": "c0b80d4d31834eb6bcdf8729069328bd",
       "version_major": 2,
       "version_minor": 0
      },
      "text/plain": [
       "5 folds:   0%|          | 0/5 [00:00<?, ?it/s]"
      ]
     },
     "metadata": {},
     "output_type": "display_data"
    },
    {
     "data": {
      "application/vnd.jupyter.widget-view+json": {
       "model_id": "ea7298c2034a464f92bf13dd92fce5c8",
       "version_major": 2,
       "version_minor": 0
      },
      "text/plain": [
       "5 folds:   0%|          | 0/5 [00:00<?, ?it/s]"
      ]
     },
     "metadata": {},
     "output_type": "display_data"
    },
    {
     "data": {
      "application/vnd.jupyter.widget-view+json": {
       "model_id": "c000611800764c8bbe0e6e79eecf3487",
       "version_major": 2,
       "version_minor": 0
      },
      "text/plain": [
       "5 folds:   0%|          | 0/5 [00:00<?, ?it/s]"
      ]
     },
     "metadata": {},
     "output_type": "display_data"
    },
    {
     "data": {
      "application/vnd.jupyter.widget-view+json": {
       "model_id": "50017f56dfb440b1a2f07f8dac82e667",
       "version_major": 2,
       "version_minor": 0
      },
      "text/plain": [
       "3CV:   0%|          | 0/3 [00:00<?, ?it/s]"
      ]
     },
     "metadata": {},
     "output_type": "display_data"
    },
    {
     "data": {
      "application/vnd.jupyter.widget-view+json": {
       "model_id": "180535ac63114ffa8af73a9a5dce78dd",
       "version_major": 2,
       "version_minor": 0
      },
      "text/plain": [
       "5 folds:   0%|          | 0/5 [00:00<?, ?it/s]"
      ]
     },
     "metadata": {},
     "output_type": "display_data"
    },
    {
     "data": {
      "application/vnd.jupyter.widget-view+json": {
       "model_id": "4e8c06d7d4b74f809da7579758a9b74c",
       "version_major": 2,
       "version_minor": 0
      },
      "text/plain": [
       "5 folds:   0%|          | 0/5 [00:00<?, ?it/s]"
      ]
     },
     "metadata": {},
     "output_type": "display_data"
    },
    {
     "data": {
      "application/vnd.jupyter.widget-view+json": {
       "model_id": "8f20d0abd2684262ae9f5e06ee3669e1",
       "version_major": 2,
       "version_minor": 0
      },
      "text/plain": [
       "5 folds:   0%|          | 0/5 [00:00<?, ?it/s]"
      ]
     },
     "metadata": {},
     "output_type": "display_data"
    },
    {
     "data": {
      "application/vnd.jupyter.widget-view+json": {
       "model_id": "2d19a615e97a4bbcb5c81aa8f115a173",
       "version_major": 2,
       "version_minor": 0
      },
      "text/plain": [
       "Model:   0%|          | 0/2 [00:00<?, ?it/s]"
      ]
     },
     "metadata": {},
     "output_type": "display_data"
    },
    {
     "data": {
      "application/vnd.jupyter.widget-view+json": {
       "model_id": "1992c236ba5746f88013ebda8527c948",
       "version_major": 2,
       "version_minor": 0
      },
      "text/plain": [
       "3CV:   0%|          | 0/3 [00:00<?, ?it/s]"
      ]
     },
     "metadata": {},
     "output_type": "display_data"
    },
    {
     "data": {
      "application/vnd.jupyter.widget-view+json": {
       "model_id": "fa3115d1bc1241049bb35b3953d17636",
       "version_major": 2,
       "version_minor": 0
      },
      "text/plain": [
       "5 folds:   0%|          | 0/5 [00:00<?, ?it/s]"
      ]
     },
     "metadata": {},
     "output_type": "display_data"
    },
    {
     "data": {
      "application/vnd.jupyter.widget-view+json": {
       "model_id": "380d6202a87149f88147035bef9ae6d8",
       "version_major": 2,
       "version_minor": 0
      },
      "text/plain": [
       "5 folds:   0%|          | 0/5 [00:00<?, ?it/s]"
      ]
     },
     "metadata": {},
     "output_type": "display_data"
    },
    {
     "data": {
      "application/vnd.jupyter.widget-view+json": {
       "model_id": "620f455cc8074deebdac473ad989bc80",
       "version_major": 2,
       "version_minor": 0
      },
      "text/plain": [
       "5 folds:   0%|          | 0/5 [00:00<?, ?it/s]"
      ]
     },
     "metadata": {},
     "output_type": "display_data"
    },
    {
     "data": {
      "application/vnd.jupyter.widget-view+json": {
       "model_id": "ef79a7b06ba64b1c922ddacf5ef98b59",
       "version_major": 2,
       "version_minor": 0
      },
      "text/plain": [
       "3CV:   0%|          | 0/3 [00:00<?, ?it/s]"
      ]
     },
     "metadata": {},
     "output_type": "display_data"
    },
    {
     "data": {
      "application/vnd.jupyter.widget-view+json": {
       "model_id": "e286f373040f4094af3f8b7c10c9153f",
       "version_major": 2,
       "version_minor": 0
      },
      "text/plain": [
       "5 folds:   0%|          | 0/5 [00:00<?, ?it/s]"
      ]
     },
     "metadata": {},
     "output_type": "display_data"
    },
    {
     "data": {
      "application/vnd.jupyter.widget-view+json": {
       "model_id": "44aa58ff36554fdd9d4eeef56f21b5f3",
       "version_major": 2,
       "version_minor": 0
      },
      "text/plain": [
       "5 folds:   0%|          | 0/5 [00:00<?, ?it/s]"
      ]
     },
     "metadata": {},
     "output_type": "display_data"
    },
    {
     "data": {
      "application/vnd.jupyter.widget-view+json": {
       "model_id": "720535bf7e1a41d68fb62e570a3e186d",
       "version_major": 2,
       "version_minor": 0
      },
      "text/plain": [
       "5 folds:   0%|          | 0/5 [00:00<?, ?it/s]"
      ]
     },
     "metadata": {},
     "output_type": "display_data"
    },
    {
     "data": {
      "application/vnd.jupyter.widget-view+json": {
       "model_id": "91b30580ab7e4075bec66763cc322e01",
       "version_major": 2,
       "version_minor": 0
      },
      "text/plain": [
       "Model:   0%|          | 0/2 [00:00<?, ?it/s]"
      ]
     },
     "metadata": {},
     "output_type": "display_data"
    },
    {
     "data": {
      "application/vnd.jupyter.widget-view+json": {
       "model_id": "fb8ee0a9fd7e43b7b4b5e8f9139011c5",
       "version_major": 2,
       "version_minor": 0
      },
      "text/plain": [
       "3CV:   0%|          | 0/3 [00:00<?, ?it/s]"
      ]
     },
     "metadata": {},
     "output_type": "display_data"
    },
    {
     "data": {
      "application/vnd.jupyter.widget-view+json": {
       "model_id": "1a1faf9313434edb989182d6f3dd4137",
       "version_major": 2,
       "version_minor": 0
      },
      "text/plain": [
       "5 folds:   0%|          | 0/5 [00:00<?, ?it/s]"
      ]
     },
     "metadata": {},
     "output_type": "display_data"
    },
    {
     "data": {
      "application/vnd.jupyter.widget-view+json": {
       "model_id": "72f33e8facaf419bad72b4cc04b8bd8f",
       "version_major": 2,
       "version_minor": 0
      },
      "text/plain": [
       "5 folds:   0%|          | 0/5 [00:00<?, ?it/s]"
      ]
     },
     "metadata": {},
     "output_type": "display_data"
    },
    {
     "data": {
      "application/vnd.jupyter.widget-view+json": {
       "model_id": "79af110a9cd9418aabdd31051a564ae3",
       "version_major": 2,
       "version_minor": 0
      },
      "text/plain": [
       "5 folds:   0%|          | 0/5 [00:00<?, ?it/s]"
      ]
     },
     "metadata": {},
     "output_type": "display_data"
    },
    {
     "data": {
      "application/vnd.jupyter.widget-view+json": {
       "model_id": "8851db777ade41439db2c20f04ba4394",
       "version_major": 2,
       "version_minor": 0
      },
      "text/plain": [
       "3CV:   0%|          | 0/3 [00:00<?, ?it/s]"
      ]
     },
     "metadata": {},
     "output_type": "display_data"
    },
    {
     "data": {
      "application/vnd.jupyter.widget-view+json": {
       "model_id": "c7ecafe12a7142c58dcf020d97bce764",
       "version_major": 2,
       "version_minor": 0
      },
      "text/plain": [
       "5 folds:   0%|          | 0/5 [00:00<?, ?it/s]"
      ]
     },
     "metadata": {},
     "output_type": "display_data"
    },
    {
     "data": {
      "application/vnd.jupyter.widget-view+json": {
       "model_id": "74f8e6155e3243769b936bbddf43430f",
       "version_major": 2,
       "version_minor": 0
      },
      "text/plain": [
       "5 folds:   0%|          | 0/5 [00:00<?, ?it/s]"
      ]
     },
     "metadata": {},
     "output_type": "display_data"
    },
    {
     "data": {
      "application/vnd.jupyter.widget-view+json": {
       "model_id": "40011b84f745407182c02b123ce1d027",
       "version_major": 2,
       "version_minor": 0
      },
      "text/plain": [
       "5 folds:   0%|          | 0/5 [00:00<?, ?it/s]"
      ]
     },
     "metadata": {},
     "output_type": "display_data"
    },
    {
     "data": {
      "application/vnd.jupyter.widget-view+json": {
       "model_id": "0de163156c6f4d218dc9a642aea0dd58",
       "version_major": 2,
       "version_minor": 0
      },
      "text/plain": [
       "Model:   0%|          | 0/2 [00:00<?, ?it/s]"
      ]
     },
     "metadata": {},
     "output_type": "display_data"
    },
    {
     "data": {
      "application/vnd.jupyter.widget-view+json": {
       "model_id": "040594115a864e36bdb0eb47e30b75bd",
       "version_major": 2,
       "version_minor": 0
      },
      "text/plain": [
       "3CV:   0%|          | 0/3 [00:00<?, ?it/s]"
      ]
     },
     "metadata": {},
     "output_type": "display_data"
    },
    {
     "data": {
      "application/vnd.jupyter.widget-view+json": {
       "model_id": "050f907ac2114c1abdc3672307bca298",
       "version_major": 2,
       "version_minor": 0
      },
      "text/plain": [
       "5 folds:   0%|          | 0/5 [00:00<?, ?it/s]"
      ]
     },
     "metadata": {},
     "output_type": "display_data"
    },
    {
     "data": {
      "application/vnd.jupyter.widget-view+json": {
       "model_id": "1f52a8f2e6b24c038c999522d0e088da",
       "version_major": 2,
       "version_minor": 0
      },
      "text/plain": [
       "5 folds:   0%|          | 0/5 [00:00<?, ?it/s]"
      ]
     },
     "metadata": {},
     "output_type": "display_data"
    },
    {
     "data": {
      "application/vnd.jupyter.widget-view+json": {
       "model_id": "b79599188b424b47b42c7b01e22db9dd",
       "version_major": 2,
       "version_minor": 0
      },
      "text/plain": [
       "5 folds:   0%|          | 0/5 [00:00<?, ?it/s]"
      ]
     },
     "metadata": {},
     "output_type": "display_data"
    },
    {
     "data": {
      "application/vnd.jupyter.widget-view+json": {
       "model_id": "5f25cb88594d449ea0a6aec8f7b2e99c",
       "version_major": 2,
       "version_minor": 0
      },
      "text/plain": [
       "3CV:   0%|          | 0/3 [00:00<?, ?it/s]"
      ]
     },
     "metadata": {},
     "output_type": "display_data"
    },
    {
     "data": {
      "application/vnd.jupyter.widget-view+json": {
       "model_id": "c3bc968e48f442678ad78ba0231f5e05",
       "version_major": 2,
       "version_minor": 0
      },
      "text/plain": [
       "5 folds:   0%|          | 0/5 [00:00<?, ?it/s]"
      ]
     },
     "metadata": {},
     "output_type": "display_data"
    },
    {
     "data": {
      "application/vnd.jupyter.widget-view+json": {
       "model_id": "249662a1269d46e7a898a996f1702ca2",
       "version_major": 2,
       "version_minor": 0
      },
      "text/plain": [
       "5 folds:   0%|          | 0/5 [00:00<?, ?it/s]"
      ]
     },
     "metadata": {},
     "output_type": "display_data"
    },
    {
     "data": {
      "application/vnd.jupyter.widget-view+json": {
       "model_id": "029a70f628ac4189967ce14192a790c7",
       "version_major": 2,
       "version_minor": 0
      },
      "text/plain": [
       "5 folds:   0%|          | 0/5 [00:00<?, ?it/s]"
      ]
     },
     "metadata": {},
     "output_type": "display_data"
    }
   ],
   "source": [
    "num_cv = 3\n",
    "num_folds = 5\n",
    "visualize = False\n",
    "\n",
    "df_resume = pd.DataFrame()\n",
    "tqdm.write(f'num_cv: {num_cv}, num_folds: {num_folds}, visualize: {visualize}, num_tree: {num_tree}')\n",
    "with tqdm(total=len(DATA_NAMES), desc=\"Data\", leave=False) as pbar:\n",
    "    for data_name in DATA_NAMES:\n",
    "        x_continuous,x_categorical,y = load_data(data_name,DIR_DATA)\n",
    "        txt = f'{data_name}: {x_continuous.shape[0]} samples, {x_continuous.shape[1]+x_categorical.shape[1]} features'\n",
    "        pbar.set_postfix_str(txt)\n",
    "        res_dict = experiment(\n",
    "            data_name,\n",
    "            num_tree,\n",
    "            visualize,\n",
    "            num_cv,\n",
    "            num_folds,\n",
    "        )\n",
    "        pbar.update(1)"
   ]
  }
 ],
 "metadata": {
  "kernelspec": {
   "display_name": "bayesml_dev_310",
   "language": "python",
   "name": "python3"
  },
  "language_info": {
   "codemirror_mode": {
    "name": "ipython",
    "version": 3
   },
   "file_extension": ".py",
   "mimetype": "text/x-python",
   "name": "python",
   "nbconvert_exporter": "python",
   "pygments_lexer": "ipython3",
   "version": "3.10.15"
  }
 },
 "nbformat": 4,
 "nbformat_minor": 2
}
